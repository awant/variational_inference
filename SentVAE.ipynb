{
 "cells": [
  {
   "cell_type": "code",
   "execution_count": 1,
   "metadata": {
    "colab": {},
    "colab_type": "code",
    "id": "AcYW7MDKScQ6"
   },
   "outputs": [],
   "source": [
    "%matplotlib inline\n",
    "\n",
    "import os\n",
    "import re\n",
    "import urllib.request\n",
    "import numpy as np\n",
    "import torch\n",
    "import torch.nn as nn\n",
    "import torch.nn.functional as F\n",
    "import torch.optim as optim\n",
    "import matplotlib.pyplot as plt\n",
    "\n",
    "from torch.utils.data import Dataset, DataLoader\n",
    "from torch.nn.utils.rnn import pack_padded_sequence, pad_packed_sequence\n",
    "device = torch.device(\"cuda:2\") if torch.cuda.is_available() else torch.device(\"cpu\")"
   ]
  },
  {
   "cell_type": "markdown",
   "metadata": {
    "colab_type": "text",
    "id": "pMktCZC3Vwyg"
   },
   "source": [
    "In this notebook you will work with a deep generative language model that maps sentences from a continuous latent space. We will use text data in English and pytorch. \n",
    "\n",
    "The first section concerns data manipulation and data loading classes necessary for our implementation. You do not need to modify anything in this part of the code, but it is useful to read through as it might illustrate some good practices."
   ]
  },
  {
   "cell_type": "markdown",
   "metadata": {
    "colab_type": "text",
    "id": "ca_L1zfDScRC"
   },
   "source": [
    "Let's first download the Penn Treebank dataset that we will be using for this notebook: these are the sentences in the PTB English corpus."
   ]
  },
  {
   "cell_type": "code",
   "execution_count": 2,
   "metadata": {
    "colab": {
     "base_uri": "https://localhost:8080/",
     "height": 51
    },
    "colab_type": "code",
    "id": "pYl0oQJVScRE",
    "outputId": "c3d0d881-3bff-44d4-ade7-8d1070276a32"
   },
   "outputs": [],
   "source": [
    "url = \"https://raw.githubusercontent.com/jhcross/span-parser/master/data/\"\n",
    "train_file = \"02-21.10way.clean\"\n",
    "val_file = \"22.auto.clean\"\n",
    "test_file = \"23.auto.clean\"\n",
    "\n",
    "if not os.path.exists(train_file):\n",
    "    print(\"Downloading data files...\")\n",
    "    if not os.path.isfile(train_file):\n",
    "        urllib.request.urlretrieve(url + train_file, filename=train_file)\n",
    "    if not os.path.isfile(val_file):\n",
    "        urllib.request.urlretrieve(url + val_file, filename=val_file)\n",
    "    if not os.path.isfile(test_file):\n",
    "        urllib.request.urlretrieve(url + test_file, filename=test_file)\n",
    "    print(\"Download complete.\")"
   ]
  },
  {
   "cell_type": "markdown",
   "metadata": {
    "colab_type": "text",
    "id": "oPlLBwayScRN"
   },
   "source": [
    "# Data\n",
    "\n",
    "In order to work with text data, we need to transform the text into something that our algorithms can work with. The first step of this process is converting words into word ids. We do this by constructing a vocabulary from the data, assigning a new word id to each new word it encounters."
   ]
  },
  {
   "cell_type": "code",
   "execution_count": 3,
   "metadata": {
    "colab": {},
    "colab_type": "code",
    "id": "S4wtwvwaScRP"
   },
   "outputs": [],
   "source": [
    "UNK_TOKEN = \"<unk>\"  # 0\n",
    "PAD_TOKEN = \"<pad>\"  # 1\n",
    "SOS_TOKEN = \"<s>\"    # 2\n",
    "EOS_TOKEN = \"</s>\"   # 3\n",
    "\n",
    "\n",
    "def tokens_from_treestring(s):\n",
    "    \"\"\"\n",
    "    Removes the parse trees in the PTB dataset.\n",
    "    \"\"\"\n",
    "    return \" \".join(re.findall(r\"\\([A-Z]* ([^\\(\\)]+)\\)\", s))\n",
    "\n",
    "def iget_next_line(filepath):\n",
    "    with open(filepath) as f:\n",
    "        yield from f\n",
    "\n",
    "class Vocabulary(object):\n",
    "    def __init__(self):\n",
    "        self.idx_to_word = {0: UNK_TOKEN, 1: PAD_TOKEN, 2: SOS_TOKEN, 3: EOS_TOKEN}\n",
    "        self.word_to_idx = {UNK_TOKEN: 0, PAD_TOKEN: 1, SOS_TOKEN: 2, EOS_TOKEN: 3}\n",
    "        self.word_freqs = {}\n",
    "    \n",
    "    def __getitem__(self, key):\n",
    "        return self.word_to_idx[key] if key in self.word_to_idx else self.word_to_idx[UNK_TOKEN]\n",
    "    \n",
    "    def word(self, idx):\n",
    "        return self.idx_to_word[idx]\n",
    "    \n",
    "    def size(self):\n",
    "        return len(self.word_to_idx)\n",
    "    \n",
    "    @staticmethod\n",
    "    def from_data(filenames):\n",
    "        \"\"\"\n",
    "            Creates a vocabulary from a list of data files. It assumes that the data files have been\n",
    "            tokenized and pre-processed beforehand.\n",
    "        \"\"\"\n",
    "        vocab = Vocabulary()\n",
    "        for filename in filenames:\n",
    "            for line in iget_next_line(filename):\n",
    "                # Strip whitespace and the newline symbol.\n",
    "                line = tokens_from_treestring(line.strip())\n",
    "\n",
    "                # Split the sentences into words and assign word ids to each\n",
    "                # new word it encounters.\n",
    "                for word in line.split():\n",
    "                    if word not in vocab.word_to_idx:\n",
    "                        idx = len(vocab.word_to_idx)\n",
    "                        vocab.word_to_idx[word] = idx\n",
    "                        vocab.idx_to_word[idx] = word\n",
    "        return vocab"
   ]
  },
  {
   "cell_type": "code",
   "execution_count": 4,
   "metadata": {},
   "outputs": [
    {
     "data": {
      "text/plain": [
       "\"In an Oct. 19 review of The Misanthrope at Chicago 's Goodman Theatre Revitalized Classics Take the Stage in Windy City Leisure & Arts the role of Celimene played by Kim Cattrall was mistakenly attributed to Christina Haag\""
      ]
     },
     "execution_count": 4,
     "metadata": {},
     "output_type": "execute_result"
    }
   ],
   "source": [
    "# check tokens_from_treestring func\n",
    "line = next(iget_next_line(train_file))\n",
    "tokens_from_treestring(line.strip())"
   ]
  },
  {
   "cell_type": "code",
   "execution_count": 5,
   "metadata": {
    "colab": {
     "base_uri": "https://localhost:8080/",
     "height": 51
    },
    "colab_type": "code",
    "id": "5yGmXEQ2TQSJ",
    "outputId": "21cf0db6-51ee-4df3-be1a-f4b853985c00"
   },
   "outputs": [
    {
     "name": "stdout",
     "output_type": "stream",
     "text": [
      "Constructing vocabulary...\n",
      "Constructed a vocabulary of 45233 word types\n"
     ]
    }
   ],
   "source": [
    "# Construct a vocabulary from the training and validation data.\n",
    "print(\"Constructing vocabulary...\")\n",
    "vocab = Vocabulary.from_data([train_file, val_file])\n",
    "print(\"Constructed a vocabulary of {} word types\".format(vocab.size()))"
   ]
  },
  {
   "cell_type": "code",
   "execution_count": 6,
   "metadata": {
    "colab": {
     "base_uri": "https://localhost:8080/",
     "height": 68
    },
    "colab_type": "code",
    "id": "jLP1Yy2_TtzR",
    "outputId": "9babc256-60e2-43f8-9ec7-2eff8d4e937d"
   },
   "outputs": [
    {
     "name": "stdout",
     "output_type": "stream",
     "text": [
      "the 20\n",
      "thing 630\n",
      "VAE 0\n"
     ]
    }
   ],
   "source": [
    "# some examples\n",
    "print('the', vocab['the'])\n",
    "print('thing', vocab['thing'])\n",
    "print('VAE', vocab['VAE'])  # something UNKNOWN"
   ]
  },
  {
   "cell_type": "markdown",
   "metadata": {
    "colab_type": "text",
    "id": "0Wwdq1DtScRX"
   },
   "source": [
    "We also need to load the data files into memory. We create a simple class `TextDataset` that stores the data as a list of sentences:"
   ]
  },
  {
   "cell_type": "code",
   "execution_count": 7,
   "metadata": {
    "colab": {},
    "colab_type": "code",
    "id": "JYC5fXfIScRa"
   },
   "outputs": [],
   "source": [
    "class TextDataset(Dataset):\n",
    "    \"\"\"\n",
    "        A simple class that loads a list of sentences into memory from a text file,\n",
    "        split by newlines. This does not do any memory optimisation, \n",
    "        so if your dataset is very large, you might want to use an alternative \n",
    "        class.\n",
    "    \"\"\"\n",
    "    def __init__(self, text_file, max_len=30):\n",
    "        self.data = []\n",
    "        for line in iget_next_line(text_file):\n",
    "            sentence = tokens_from_treestring(line.strip())\n",
    "            if len(sentence.split()) <= max_len:\n",
    "                self.data.append(sentence)\n",
    "    \n",
    "    def __len__(self):\n",
    "        return len(self.data)\n",
    "    \n",
    "    def __getitem__(self, idx):\n",
    "        return self.data[idx]"
   ]
  },
  {
   "cell_type": "code",
   "execution_count": 8,
   "metadata": {
    "colab": {
     "base_uri": "https://localhost:8080/",
     "height": 108
    },
    "colab_type": "code",
    "id": "SehavEDQTfIe",
    "outputId": "c03d43e8-bce6-421e-ca79-19b5206fe27f"
   },
   "outputs": [
    {
     "name": "stdout",
     "output_type": "stream",
     "text": [
      "Sample from training data: \"They believe the media including Batibot have played a crucial role\"\n",
      "Sample from validation data: \"Foreign stock markets which kicked off Black Monday with a huge selling spree began the day off by relatively modest amounts\"\n",
      "Sample from test data: \"Executives at Prudential-Bache Securities Inc. a Backer Spielvogel client that is reviewing account declined comment\"\n"
     ]
    }
   ],
   "source": [
    "# Load the training, validation, and test datasets into memory.\n",
    "train_dataset = TextDataset(train_file)\n",
    "val_dataset = TextDataset(val_file)\n",
    "test_dataset = TextDataset(test_file)\n",
    "\n",
    "# Print some samples from the data:\n",
    "print(\"Sample from training data: \\\"%s\\\"\" % train_dataset[np.random.choice(len(train_dataset))])\n",
    "print(\"Sample from validation data: \\\"%s\\\"\" % val_dataset[np.random.choice(len(val_dataset))])\n",
    "print(\"Sample from test data: \\\"%s\\\"\" % test_dataset[np.random.choice(len(test_dataset))])"
   ]
  },
  {
   "cell_type": "markdown",
   "metadata": {
    "colab_type": "text",
    "id": "PNQ1TG-3ScRh"
   },
   "source": [
    "Now it's time to write a function that converts a sentence into a list of word ids using the vocabulary we created before. This function is `create_batch` in the code cell below. This function creates a batch from a list of sentences, and makes sure that each sentence starts with a start-of-sentence symbol and ends with an end-of-sentence symbol. Because not all sentences are of equal length in a certain batch, sentences are padded with padding symbols so that they match the length of the largest sentence in the batch. The function returns an input batch, an output batch, a mask of 1s for words and 0s for padding symbols, and the sequence lengths of each sentence in the batch. The output batch is shifted by one word, to reflect the predictions that the model is expected to make. For example, for a sentence\n",
    "\\begin{align}\n",
    "    \\text{The dog runs .}\n",
    "\\end{align}\n",
    "the input sequence is\n",
    "\\begin{align}\n",
    "    \\text{SOS The dog runs .}\n",
    "\\end{align}\n",
    "and the output sequence is\n",
    "\\begin{align}\n",
    "    \\text{The dog runs . EOS}\n",
    "\\end{align}\n",
    "\n",
    "You can see the output is shifted wrt the input, that's because we will be computing a distribution for the next word in context of its prefix, and that's why we need to shift the sequence this way.\n",
    "\n",
    "\n",
    "Lastly, we create an inverse function `batch_to_sentences` that recovers the list of sentences from a padded batch of word ids to use during test time."
   ]
  },
  {
   "cell_type": "code",
   "execution_count": 9,
   "metadata": {
    "colab": {},
    "colab_type": "code",
    "id": "GcYfsIaBScRj"
   },
   "outputs": [],
   "source": [
    "def create_batch(sentences, vocab, device, word_dropout=0.):\n",
    "    \"\"\"\n",
    "    Converts a list of sentences to a padded batch of word ids. Returns\n",
    "    an input batch, an output batch shifted by one, a sequence mask over\n",
    "    the input batch, and a tensor containing the sequence length of each\n",
    "    batch element.\n",
    "    :param sentences: a list of sentences, each a list of token ids\n",
    "    :param vocab: a Vocabulary object for this dataset\n",
    "    :param device: \n",
    "    :param word_dropout: rate at which we omit words from the context (input)\n",
    "    :returns: a batch of padded inputs, a batch of padded outputs, mask, lengths\n",
    "    \"\"\"\n",
    "    tok = np.array([[SOS_TOKEN] + sent.split() + [EOS_TOKEN] for sent in sentences])\n",
    "    seq_lengths = [len(sent)-1 for sent in tok]\n",
    "    max_len = max(seq_lengths)\n",
    "    pad_id = vocab[PAD_TOKEN]\n",
    "    pad_id_input = [\n",
    "        [vocab[sent[t]] if t < seq_lengths[idx] else pad_id for t in range(max_len)]\n",
    "            for idx, sent in enumerate(tok)]\n",
    "    \n",
    "    # Replace words of the input with <unk> with p = word_dropout.\n",
    "    # it is possible to check also dropping only after <s> token\n",
    "    if word_dropout > 0.:\n",
    "        unk_id = vocab[UNK_TOKEN]\n",
    "        word_drop = [\n",
    "            [unk_id if (np.random.random() < word_dropout and t < seq_lengths[idx]) else word_ids[t] for t in range(max_len)] \n",
    "                for idx, word_ids in enumerate(pad_id_input)]\n",
    "        pad_id_input = word_drop\n",
    "    \n",
    "    # The output batch is shifted by 1.\n",
    "    pad_id_output = [\n",
    "        [vocab[sent[t+1]] if t < seq_lengths[idx] else pad_id for t in range(max_len)]\n",
    "            for idx, sent in enumerate(tok)]\n",
    "    \n",
    "    # Convert everything to PyTorch tensors.\n",
    "    batch_input = torch.tensor(pad_id_input)\n",
    "    batch_output = torch.tensor(pad_id_output)\n",
    "    seq_mask = (batch_input != vocab[PAD_TOKEN])\n",
    "    seq_length = torch.tensor(seq_lengths)\n",
    "    \n",
    "    # Move all tensors to the given device.\n",
    "    batch_input = batch_input.to(device)\n",
    "    batch_output = batch_output.to(device)\n",
    "    seq_mask = seq_mask.to(device)\n",
    "    seq_length = seq_length.to(device)\n",
    "    \n",
    "    return batch_input, batch_output, seq_mask, seq_length\n",
    "\n",
    "\n",
    "def batch_to_sentences(tensors, vocab: Vocabulary):\n",
    "    \"\"\"\n",
    "    Converts a batch of word ids back to sentences.\n",
    "    :param tensors: [B, T] word ids\n",
    "    :param vocab: a Vocabulary object for this dataset\n",
    "    :returns: an array of strings (each a sentence).\n",
    "    \"\"\"\n",
    "    sentences = []\n",
    "    batch_size = tensors.size(0)\n",
    "    for idx in range(batch_size):\n",
    "        sentence = [vocab.word(t.item()) for t in tensors[idx,:]]\n",
    "        \n",
    "        # Filter out the start-of-sentence and padding tokens.\n",
    "        sentence = list(filter(lambda t: t != PAD_TOKEN and t != SOS_TOKEN, sentence))\n",
    "        \n",
    "        # Remove the end-of-sentence token and all tokens following it.\n",
    "        if EOS_TOKEN in sentence:\n",
    "            sentence = sentence[:sentence.index(EOS_TOKEN)]\n",
    "            \n",
    "        sentences.append(\" \".join(sentence))\n",
    "    return np.array(sentences)"
   ]
  },
  {
   "cell_type": "code",
   "execution_count": 10,
   "metadata": {},
   "outputs": [
    {
     "name": "stdout",
     "output_type": "stream",
     "text": [
      "SENTENCES [\"No it was n't Black Monday\", 'The finger-pointing has already begun']\n",
      "INP BATCH\n",
      " tensor([[    2,  1617,    48,    34,   102,  5359,  1715],\n",
      "        [    2,    10, 34227,   101,   191,  7178,     1]])\n",
      "OUT BATCH\n",
      " tensor([[ 1617,    48,    34,   102,  5359,  1715,     3],\n",
      "        [   10, 34227,   101,   191,  7178,     3,     1]])\n",
      "SEQ MASK\n",
      " tensor([[1, 1, 1, 1, 1, 1, 1],\n",
      "        [1, 1, 1, 1, 1, 1, 0]], dtype=torch.uint8)\n",
      "SEQ LENGTH\n",
      " tensor([7, 6])\n",
      "\n",
      "WORD DROPOUT = 0.1\n",
      "SENTENCES [\"No it was n't Black Monday\", 'The finger-pointing has already begun']\n",
      "INP BATCH\n",
      " tensor([[    2,  1617,    48,    34,     0,  5359,  1715],\n",
      "        [    2,    10, 34227,   101,   191,  7178,     1]])\n",
      "OUT BATCH\n",
      " tensor([[ 1617,    48,    34,   102,  5359,  1715,     3],\n",
      "        [   10, 34227,   101,   191,  7178,     3,     1]])\n",
      "SEQ MASK\n",
      " tensor([[1, 1, 1, 1, 1, 1, 1],\n",
      "        [1, 1, 1, 1, 1, 1, 0]], dtype=torch.uint8)\n",
      "SEQ LENGTH\n",
      " tensor([7, 6])\n"
     ]
    }
   ],
   "source": [
    "# check create_batch & batch_to_sentences funcs\n",
    "sentences = [\n",
    "    test_dataset[0],\n",
    "    test_dataset[5]\n",
    "]\n",
    "\n",
    "batch_input, batch_output, seq_mask, seq_length = create_batch(sentences, vocab, device, 0)\n",
    "print('SENTENCES', sentences)\n",
    "print('INP BATCH\\n', batch_input.cpu())\n",
    "print('OUT BATCH\\n', batch_output.cpu())\n",
    "print('SEQ MASK\\n', seq_mask.cpu())\n",
    "print('SEQ LENGTH\\n', seq_length.cpu())\n",
    "\n",
    "assert (sentences == batch_to_sentences(batch_input, vocab)).all()\n",
    "assert (sentences == batch_to_sentences(batch_output, vocab)).all()\n",
    "\n",
    "word_dropout = 0.1\n",
    "print('\\nWORD DROPOUT = {}'.format(word_dropout))\n",
    "batch_input, batch_output, seq_mask, seq_length = create_batch(sentences, vocab, device, word_dropout)\n",
    "print('SENTENCES', sentences)\n",
    "print('INP BATCH\\n', batch_input.cpu())\n",
    "print('OUT BATCH\\n', batch_output.cpu())\n",
    "print('SEQ MASK\\n', seq_mask.cpu())\n",
    "print('SEQ LENGTH\\n', seq_length.cpu())"
   ]
  },
  {
   "cell_type": "markdown",
   "metadata": {
    "colab_type": "text",
    "id": "l7R5_4wwScRq"
   },
   "source": [
    "In PyTorch the RNN functions expect inputs to be sorted from long sentences to shorter ones. Therefore we create a simple wrapper class for the DataLoader class that sorts sentences from long to short:  "
   ]
  },
  {
   "cell_type": "code",
   "execution_count": 11,
   "metadata": {
    "colab": {},
    "colab_type": "code",
    "id": "Xjtwes5iScRs"
   },
   "outputs": [],
   "source": [
    "class SortingTextDataLoader(object):\n",
    "    \"\"\"\n",
    "    A wrapper for the DataLoader class that sorts a list of sentences by their\n",
    "    lengths in descending order.\n",
    "    \"\"\"\n",
    "\n",
    "    def __init__(self, dataloader):\n",
    "        self.dataloader = dataloader\n",
    "        self.it = iter(dataloader)\n",
    "    \n",
    "    def __iter__(self):\n",
    "        return self\n",
    "    \n",
    "    def __next__(self):\n",
    "        sentences = None\n",
    "        for s in self.it:\n",
    "            sentences = s\n",
    "            break\n",
    "\n",
    "        if sentences is None:\n",
    "            self.it = iter(self.dataloader)\n",
    "            raise StopIteration\n",
    "        \n",
    "        sentences = np.array(sentences)\n",
    "        sort_keys = sorted(range(len(sentences)), \n",
    "                           key=lambda idx: len(sentences[idx].split()), \n",
    "                           reverse=True)\n",
    "        sorted_sentences = sentences[sort_keys]\n",
    "        return sorted_sentences"
   ]
  },
  {
   "cell_type": "code",
   "execution_count": 12,
   "metadata": {},
   "outputs": [
    {
     "name": "stdout",
     "output_type": "stream",
     "text": [
      "Some circuit breakers installed after the October 1987 crash failed first test t 25\n",
      "Big investment banks refused to step up to the plate to support the beleaguered  24\n",
      "Seven Big Board stocks UAL AMR BankAmerica Walt Disney Capital Cities\\/ABC Phili 22\n",
      "Heavy selling of Standard & Poor 's 500-stock index futures in Chicago relentles 16\n",
      "No it was n't Black Monday 6\n"
     ]
    }
   ],
   "source": [
    "dummy_dataloader = SortingTextDataLoader(DataLoader(test_dataset, batch_size=5))\n",
    "sents = next(dummy_dataloader)\n",
    "for sent in sents:\n",
    "    print(sent[:80], len(sent.split(' ')))"
   ]
  },
  {
   "cell_type": "markdown",
   "metadata": {
    "colab_type": "text",
    "id": "bkrOx_-NScRw"
   },
   "source": [
    "# Model\n",
    "\n",
    "## Deterministic language model\n",
    "\n",
    "In language modelling, we model a sentence $x = \\langle x_1, \\ldots, x_n \\rangle$  of length $n = |x|$ as a sequence of categorical draws:\n",
    "\n",
    "\\begin{align}\n",
    "X_i|x_{<i} & \\sim \\text{Cat}(f(x_{<i}; \\theta)) \n",
    "& i = 1, \\ldots, n \\\\\n",
    "\\end{align}\n",
    "\n",
    "where we use $x_{<i}$ to denote a (possibly empty) prefix string, and thus the model makes no Markov assumption. We map from the conditioning context, the prefix $x_{<i}$, to the categorical parameters (a $v$-dimensional probability vector, where $v$ denotes the size of the vocabulary of the language) using a fixed neural network architecture whose parameters we collectively denote by $\\theta$.\n",
    "\n",
    "This assigns the following likelihood to the sentence\n",
    "\\begin{align}\n",
    "    P(x|\\theta) &= \\prod_{i=1}^n P(x_i|x_{<i}, \\theta) \\\\\n",
    "    &= \\prod_{i=1}^n \\text{Cat}(x_i|f(x_{<i}; \\theta))  \n",
    "\\end{align}\n",
    "where the categorical pmf is $\\text{Cat}(k|\\pi) = \\prod_{j=1}^v \\pi_j^{[k=j]} = \\pi_k$. \n",
    "\n",
    "\n",
    "Suppose we have a dataset $\\mathcal D = \\{x^{(1)}, \\ldots, x^{(N)}\\}$ containing $N$ i.i.d. observations. Then we can use the log-likelihood function \n",
    "\\begin{align}\n",
    "\\mathcal L(\\theta|\\mathcal D) &= \\sum_{k=1}^{N} \\log P(x^{(k)}| \\theta) \\\\\n",
    "&= \\sum_{k=1}^{N} \\sum_{i=1}^{|x^{(k)}|} \\log \\text{Cat}(x^{(k)}_i|f(x^{(k)}_{<i}; \\theta))\n",
    "\\end{align}\n",
    " to estimate $\\theta$ by maximisation:\n",
    " \\begin{align}\n",
    " \\theta^\\star = \\arg\\max_{\\theta \\in \\Theta} \\mathcal L(\\theta|\\mathcal D) ~ .\n",
    " \\end{align}\n",
    " \n",
    "\n",
    "We can use stochastic gradient-ascent to find a local optimum of $\\mathcal L(\\theta|\\mathcal D)$, which only requires a gradient estimate:\n",
    "\n",
    "\\begin{align}\n",
    "\\nabla_\\theta \\mathcal L(\\theta|\\mathcal D) &= \\sum_{k=1}^{|\\mathcal D|} \\nabla_\\theta  \\log P(x^{(k)}|\\theta) \\\\ \n",
    "&= \\sum_{k=1}^{|\\mathcal D|} \\frac{1}{N} N \\nabla_\\theta  \\log P(x^{(k)}| \\theta)  \\\\\n",
    "&= \\mathbb E_{\\mathcal U(1/N)} \\left[ N \\nabla_\\theta  \\log P(x^{(K)}| \\theta) \\right]  \\\\\n",
    "&\\overset{\\text{MC}}{\\approx} \\frac{N}{M} \\sum_{m=1}^M \\nabla_\\theta  \\log P(x^{(k_m)}|\\theta) \\\\\n",
    "&\\text{where }K_m \\sim \\mathcal U(1/N)\n",
    "\\end{align}\n",
    "\n",
    "This is a Monte Carlo (MC) estimate of the gradient computed on $M$ data points selected uniformly at random from $\\mathcal D$.\n",
    "\n",
    "For as long as $f$ remains differentiable wrt to its inputs and parameters, we can rely on automatic differentiation to obtain gradient estimates.\n",
    "\n",
    "\n",
    "An example design for $f$ is:\n",
    "\\begin{align}\n",
    "\\mathbf x_i &= \\text{emb}(x_i; \\theta_{\\text{emb}}) \\\\\n",
    "\\mathbf h_0 &\\in \\theta_{\\text{rnn}} \\\\\n",
    "\\mathbf h_i &= \\text{rnn}(\\mathbf h_{i-1}, \\mathbf x_{i-1}; \\theta_{\\text{rnn}}) \\\\\n",
    "f(x_{<i}; \\theta) &= \\text{softmax}(\\text{dense}_v(\\mathbf h_{i};  \\theta_{\\text{out}}))\n",
    "\\end{align}\n",
    "where \n",
    "* $\\text{emb}$ is a fixed embedding layer with parameters $\\theta_{\\text{emb}}$;\n",
    "* $\\text{rnn}$ is a recurrent architecture with parameters $\\theta_{\\text{rnn}}$, e.g. an LSTM or GRU, and $\\mathbf h_0$ is part of the architecture's parameters;\n",
    "* $\\text{dense}_v$ is a dense layer with $v$ outputs (vocabulary size) and parameters $\\theta_{\\text{out}}$.\n",
    "\n",
    "\n",
    "\n",
    "In what follows we show how to extend this model with a continuous latent sentence embedding."
   ]
  },
  {
   "cell_type": "markdown",
   "metadata": {
    "colab_type": "text",
    "id": "xhO8rD2DYuar"
   },
   "source": [
    "## Deep generative language model\n",
    "\n",
    "We want to model a sentence $x$ as a draw from the marginal of deep generative model $p(z, x|\\theta) = p(z)P(x|z, \\theta)$. Note that we use $p(\\cdot)$ for pdfs and $P(\\cdot)$ for pmfs.\n",
    "\n",
    "\n",
    "### Generative model\n",
    "\n",
    "The generative story is:\n",
    "\\begin{align}\n",
    "    Z & \\sim \\mathcal N(0, I) \\\\\n",
    "    X_i | z, x_{<i} &\\sim \\text{Cat}(f(z, x_{<i}; \\theta)) & i=1, \\ldots, n\n",
    "\\end{align}\n",
    "where $z \\in \\mathbb R^D$ and  we impose a standard Gaussian prior on latent space. Other choices of prior can induce interesting properties in latent space, however, in this notebook, we use the Gaussian for its simplicity.\n",
    "\n",
    "It is easy to design $f$ by a simple modification of the deterministic design shown before:\n",
    "\\begin{align}\n",
    "\\mathbf x_i &= \\text{emb}(x_i; \\theta_{\\text{emb}}) \\\\\n",
    "\\mathbf h_0 &= \\tanh(\\text{dense}(z; \\theta_{\\text{init}})) \\\\\n",
    "\\mathbf h_i &= \\text{rnn}(\\mathbf h_{i-1}, \\mathbf x_{i-1}; \\theta_{\\text{rnn}}) \\\\\n",
    "f(x_{<i}; \\theta) &= \\text{softmax}(\\text{dense}_v(\\mathbf h_{i};  \\theta_{\\text{out}}))\n",
    "\\end{align}\n",
    "where we just initialise the recurrent cell using $z$. Note we could also use $z$ in other places, for example, as additional input to every update of the recurrent cell $\\mathbf h_i = \\text{rnn}(\\mathbf h_{i-1}, [\\mathbf x_{i-1}, z])$. This is an architecture choice which like many others can only be judged empirically or on the basis of practical convenience.\n",
    "\n"
   ]
  },
  {
   "cell_type": "markdown",
   "metadata": {
    "colab_type": "text",
    "id": "YwB7igyXg8uU"
   },
   "source": [
    "### Parameter estimation\n",
    "\n",
    "The marginal likelihood, necessary for parameter estimation, is now no longer tractable:\n",
    "\\begin{align}\n",
    "P(x|\\theta) &= \\int p(z)P(x|z, \\theta) \\text{d}z \\\\\n",
    "&= \\int \\mathcal N(z|0, I)\\prod_{i=1}^n \\text{Cat}(x_i|f(z,x_{<i}; \\theta) )\\text{d}z \n",
    "\\end{align}\n",
    "the intractability is clear as even if $f$ would be linear (recall it isn't) the Gaussian and the Categorical are not conjugate and the integration has no closed-form solution.\n",
    "\n",
    "We turn to variational inference and derive a lowerbound $\\mathcal E(\\theta, \\lambda|\\mathcal D)$ on the log-likelihood function\n",
    "\n",
    "\\begin{align}\n",
    "    \\mathcal E(\\theta, \\lambda|\\mathcal D) &= \\sum_{k=1}^{|\\mathcal D|} \\mathcal E_k(\\theta, \\lambda|x^{(k)}) \n",
    "\\end{align}\n",
    "\n",
    "which for a single datapoint $x$ is\n",
    "\\begin{align}\n",
    "    \\mathcal E(\\theta, \\lambda|x) &= \\mathbb{E}_{q(z|x)}\\left[\\log P(x|z, \\theta)\\right] - \\text{KL}\\left(q(z|x, \\lambda)||p(z)\\right)\\\\\n",
    "\\end{align}\n",
    "where we have introduce an independently parameterised auxiliary distribution $q(z|x, \\lambda)$. The distribution $q$ which maximises this *evidence lowerbound* (ELBO) is also the distribution that minimises \n",
    "\\begin{align}\n",
    "\\text{KL}(q(z|x, \\lambda)||p(z|x, \\theta)) = \\mathbb E_{q(z|x, \\lambda)}\\left[ \\frac{q(z|x, \\lambda)}{p(z|x, \\theta)}\\right]\n",
    "\\end{align}\n",
    " where $p(z|x, \\theta) = \\frac{p(x, z|\\theta)}{p(x|\\theta)}$ is our intractable true posterior. For that reason, we think of $q(z|x, \\lambda)$ as an *approximate posterior*. \n",
    " \n",
    " The approximate posterior is an independent model of the latent variable given the data, for that reason we also call it an *inference model*. \n",
    " In this notebook, our inference model will be a diagonal Gaussian, to make sure that we cover the sample space of our latent variable. A diagonal Gaussian models each component of the latent representation independently, and is an example of mean field (MF) inference:\n",
    " \n",
    " \\begin{align}\n",
    "    q(z|x, \\lambda) &\\overset{\\text{MF}}{=} \\prod_{d=1}^D \\mathcal N(z_d|\\mu_d(x; \\lambda); \\sigma_d(x; \\lambda)^2) \\\\\n",
    "    &= \\mathcal N(z|\\mu(x; \\lambda), \\text{diag}(\\sigma(x; \\lambda)^2))\n",
    " \\end{align}\n",
    " \n",
    " where we employ neural network architectures to map from the sentence $x$ to a vector of locations (in $\\mathbb R^D$) and a vector of scales (in $\\mathbb R^D_{>0}$).\n",
    " \n",
    " \n",
    "For this choice, the KL term in the ELBO is tractable:\n",
    "\n",
    "\\begin{align}\n",
    "\\text{KL}\\left(q(z|x, \\lambda)||p(z)\\right) &= \\sum_{d=1}^D \\text{KL}\\left(q(z_d|x, \\lambda)||p(z_d)\\right) \\\\\n",
    "&= \\sum_{d=1}^D \\text{KL}\\left(\\mathcal N(u_d, s^2)|| \\mathcal N(0,1)\\right) \\\\\n",
    "&= - \\frac{1}{2} \\sum_{d=1}^D \\left(1 + \\log s_d^2 - u_d^2 - s_d^2 \\right)\n",
    "\\end{align}\n",
    "where $u_d = \\mu_d(x; \\lambda)$ and $s_d = \\sigma_d(x; \\lambda)$.\n",
    "\n",
    " \n",
    "Here's an example design for our inference model:\n",
    "\n",
    "\\begin{align}\n",
    "\\mathbf x_i &= \\text{emb}(x_i; \\lambda_{\\text{emb}}) \\\\\n",
    "\\mathbf f_i &= \\text{rnn}(\\mathbf f_{i-1}, \\mathbf x_{i}; \\lambda_{\\text{fwd}}) \\\\\n",
    "\\mathbf b_i &= \\text{rnn}(\\mathbf b_{i+1}, \\mathbf x_{i}; \\lambda_{\\text{bwd}}) \\\\\n",
    "\\mathbf h &= \\text{dense}([\\mathbf f_{n}, \\mathbf b_1]; \\lambda_{\\text{hid}}) \\\\\n",
    "\\mu(x; \\lambda) &= \\text{dense}(\\mathbf h; \\lambda_{\\text{loc}})\\\\\n",
    "\\sigma(x; \\lambda) &= \\text{softplus}(\\text{dense}(\\mathbf h; \\lambda_{\\text{scale}}))\n",
    "\\end{align}\n",
    "\n",
    "where we use the $\\text{softplus}$ activation to make sure our scales are strictly positive. Note that $\\exp$ would also do that job, though $\\text{softplus}$ is assymptotically linear with its input, which gives us better gradient dynamics.\n",
    " \n",
    "Because we have neural networks compute the diagonal Gaussian parameters for us, we call this *amortised* mean field inference.\n",
    "\n"
   ]
  },
  {
   "cell_type": "markdown",
   "metadata": {
    "colab_type": "text",
    "id": "y8BTCCPVOKp_"
   },
   "source": [
    "### Gradient estimation\n",
    "\n",
    "We have to obtain gradients of the ELBO\n",
    "\n",
    "\\begin{align}\n",
    "\\nabla_\\theta  \\mathcal E(\\theta, \\lambda|x) &=  \\mathbb{E}_{q(z|x)}\\left[\\nabla_\\theta \\log P(x|z, \\theta)\\right] - \\underbrace{\\nabla_\\theta \\text{KL}\\left(q(z|x, \\lambda)||p(z)\\right)}_{=0}\n",
    "\\end{align}\n",
    "\n",
    "and \n",
    "\n",
    "\\begin{align}\n",
    "\\nabla_\\lambda  \\mathcal E(\\theta, \\lambda|x) &= \\nabla_\\lambda\\mathbb{E}_{q(z|x)}\\left[\\log P(x|z, \\theta)\\right] - \\nabla_\\lambda \\text{KL}\\left(q(z|x, \\lambda)||p(z)\\right)\n",
    "\\end{align}\n",
    "\n",
    "Clearly, the gradient for the generative network is easy to estimate using MC, but the gradient for the inference network is more complicated because we don't have an expected gradient, rather the gradient of an expected value.\n",
    "\n",
    "But recall, that we chose a Gaussian for approximate posterior, and Gaussians are what we call a location-scale family. Every Gaussian variable can be *re-expressed* or  **reparameterised** in terms of the standard Gaussian (a distribution with fixed parameters), that is:\n",
    "\n",
    "\\begin{align}\n",
    "\\epsilon = \\frac{z - \\mu(x; \\sigma)}{\\sigma(x; \\lambda)} &\\sim \\mathcal N(0, I) \\\\\n",
    "z = \\mu(x; \\lambda) + \\sigma(x;\\lambda) \\odot \\epsilon &\\sim \\mathcal N(\\mu(x; \\lambda), \\text{diag}(\\sigma(x; \\lambda)^2))\n",
    "\\end{align}\n",
    "\n",
    "where $\\epsilon$ is distributed by a $D$-dimensional standard Gaussian and $\\odot$ denotes elementwise multiplication.\n",
    "\n",
    "This means we can rewrite the ELBO as\n",
    "\n",
    "\\begin{align}\n",
    "\\mathcal E(\\theta, \\lambda|x) &= \\mathbb{E}_{\\epsilon \\sim \\mathcal N(0, I)}\\left[\\log P(x|z=\\mu(x; \\lambda) + \\sigma(x; \\lambda) \\odot \\epsilon, \\theta)\\right] - \\text{KL}\\left(q(z|x, \\lambda)||p(z)\\right) \n",
    "\\end{align}\n",
    "\n",
    "and though we could also rewrite the KL term, we will leave as is because it is tractable to compute.\n",
    "\n",
    "Now our gradients are both very simple:\n",
    "\n",
    "\\begin{align}\n",
    "\\nabla_\\theta \\mathcal E(\\theta, \\lambda|x) &= \\mathbb{E}_{\\epsilon \\sim \\mathcal N(0, I)}\\left[\\nabla_\\theta \\log P(x|z=\\mu(x; \\lambda) + \\sigma(x; \\lambda) \\odot \\epsilon, \\theta)\\right] - \\underbrace{\\nabla_\\theta \\text{KL}\\left(q(z|x, \\lambda)||p(z)\\right)}_{=0} \\\\\n",
    "&\\overset{\\text{MC}}{\\approx} \\frac{1}{S} \\sum_{s=1}^S \\nabla_\\theta \\log P(x|z^{(s)}, \\theta) \\\\\n",
    "&\\text{where }z^{(s)} = \\mu(x; \\lambda) + \\sigma(x; \\lambda) \\odot \\epsilon^{(s)}\\\\\n",
    "&\\text{and }\\epsilon^{(s)} \\sim \\mathcal N(0, I)\n",
    "\\end{align}\n",
    "\n",
    "and \n",
    "\n",
    "\\begin{align}\n",
    "\\nabla_\\lambda \\mathcal E(\\theta, \\lambda|x) &=\\nabla_\\lambda \\mathbb{E}_{\\epsilon \\sim \\mathcal N(0, I)}\\left[\\nabla_\\lambda \\log P(x|z=\\mu(x; \\lambda) + \\sigma(x; \\lambda) \\odot \\epsilon, \\theta)\\right] - \\nabla_\\lambda \\underbrace{\\text{KL}\\left(q(z|x, \\lambda)||p(z)\\right)}_{\\text{tractable}} \\\\\n",
    "&\\overset{\\text{MC}}{\\approx} \\left(\\frac{1}{S} \\sum_{s=1}^S \\nabla_\\lambda \\log P(x|z^{(s)}, \\theta)\\right) -  \\nabla_\\lambda \\underbrace{\\text{KL}\\left(q(z|x, \\lambda)||p(z)\\right)}_{\\text{tractable}}\\\\\n",
    "&\\text{where }z^{(s)} = \\mu(x; \\lambda) + \\sigma(x; \\lambda) \\odot \\epsilon^{(s)}\\\\\n",
    "&\\text{and }\\epsilon^{(s)} \\sim \\mathcal N(0, I)\n",
    "\\end{align}\n",
    "\n",
    "and note how both, but especially the second, use this notion of *reparameterised sample* to make all sources of stochasticity independent of the parameters of the network.\n",
    "\n",
    "Gradient estimates of this sort are known in the literature as *reparameterised gradients* and this makes our model an instance of what is known in the literature as a *variational auto-encoder* (VAE).\n",
    "\n"
   ]
  },
  {
   "cell_type": "markdown",
   "metadata": {
    "colab_type": "text",
    "id": "A6lhOGrkTNA3"
   },
   "source": [
    "\n",
    "## Implementation\n",
    "\n",
    "We start by implementing our generative model, which requires implementing a Gaussian/Normal distribution:\n",
    "\n",
    "Check the [wikipedia page about Normal distribution](https://en.wikipedia.org/wiki/Normal_distribution) for information such as the functional form of the pdf. \n",
    "\n",
    "You will need the KL divergence for univariate Normal distributions:\n",
    "\n",
    "\\begin{align}\n",
    "\\text{KL}\\left(\\mathcal N(\\mu_1, \\sigma_1^2) || \\mathcal N(\\mu_2, \\sigma_2^2)\\right)\n",
    "&= \\frac{1}{2 \\sigma_2^2} \\left((\\mu_1 - \\mu_2)^2 + \\sigma_1^2 - \\sigma_2^2\\right) + \\log \\frac{\\sigma_2}{\\sigma_1}\n",
    "\\end{align}\n",
    "\n",
    "\n"
   ]
  },
  {
   "cell_type": "code",
   "execution_count": 13,
   "metadata": {
    "colab": {},
    "colab_type": "code",
    "id": "ITzvi_ovpZUy"
   },
   "outputs": [],
   "source": [
    "import math\n",
    "\n",
    "class Normal(object):\n",
    "    \"\"\"\n",
    "    This is a normal distribution\n",
    "        N(u, s^2)\n",
    "    thus specified by a location u and a strictly positive scale.\n",
    "    \n",
    "    This class can hold a collection of D independent Gaussian variables\n",
    "        by having a D-dimensional vector of locations and \n",
    "        a D-dimensinal vector of scales.\n",
    "    \"\"\"\n",
    "    \n",
    "    def __init__(self, loc, scale):\n",
    "        \"\"\"\n",
    "        :param loc: a tensor of locations (real numbers)\n",
    "        :param scale: a tensor of scales (strictly positive real numbers)\n",
    "        \"\"\"\n",
    "        self.loc, self.scale = loc, scale\n",
    "    \n",
    "    def mean(self):\n",
    "        \"\"\"For Gaussians this is the location\"\"\"\n",
    "        return self.loc\n",
    "    \n",
    "    def std(self):\n",
    "        \"\"\"For Gaussians this is the scale\"\"\"\n",
    "        return self.scale\n",
    "    \n",
    "    def sample(self):\n",
    "        \"\"\"\n",
    "        Returns a reparameterised sample with the shape of the location parameter.\n",
    "        \"\"\"\n",
    "        eps = torch.randn_like(self.scale)\n",
    "        return self.loc + self.scale * eps\n",
    "    \n",
    "    def log_pdf(self, x):\n",
    "        \"\"\"\n",
    "        Assess the log probability density of x.\n",
    "        \n",
    "        :param x: a tensor of Gaussian samples (same shape as the location parameter)\n",
    "        :returns:  tensor of log probabilities densities\n",
    "        \"\"\"\n",
    "        var = self.scale ** 2\n",
    "        return -(x - self.loc) ** 2 / 2 / var - 1./2 * np.log(2 * np.pi) - torch.log(self.scale)\n",
    "    \n",
    "    def kl(self, other: 'Normal'):\n",
    "        \"\"\"\n",
    "        The KL divergence between two Gaussians\n",
    "        :returns: a tensor of KL values with the same shape as the parameters of self.\n",
    "        \"\"\"\n",
    "        self_var = self.scale ** 2\n",
    "        other_var = other.scale ** 2\n",
    "        \n",
    "        return (torch.log(other.scale / self.scale) +\n",
    "                ((self.loc - other.loc)**2 + self_var - other_var) / 2 / other_var)"
   ]
  },
  {
   "cell_type": "code",
   "execution_count": 14,
   "metadata": {
    "colab": {},
    "colab_type": "code",
    "id": "v7N6FU3c2V86"
   },
   "outputs": [],
   "source": [
    "# tests for Normal\n",
    "torch.manual_seed(0xBADF00D)\n",
    "dummy_loc = torch.randn(10, requires_grad=True)\n",
    "dummy_scale = torch.linspace(0.1, 5.0, 10, requires_grad=True)\n",
    "dummy_samples = Normal(dummy_loc, dummy_scale).sample()\n",
    "sample_pdf = Normal(dummy_loc, dummy_scale).log_pdf(dummy_samples)\n",
    "\n",
    "dummy_grads = torch.autograd.grad(dummy_samples.mean(), [dummy_loc, dummy_scale], allow_unused=True)\n",
    "assert all(grad is not None for grad in dummy_grads), \"samples are not differentiable w.r.t. loc and/or scale. \"\\\n",
    "                                                      \" Make sure you use torch throughout the implementation \"\n",
    "assert sample_pdf.shape == dummy_loc.shape\n",
    "\n",
    "# kl divergence\n",
    "dummy_loc_2 = torch.randn(10, requires_grad=True)\n",
    "\n",
    "normal1 = Normal(dummy_loc, dummy_scale)\n",
    "normal2 = Normal(dummy_loc_2, 5.1 - dummy_scale)\n",
    "dummy_kl = normal1.kl(normal2)\n",
    "\n",
    "dummy_kl_ref = torch.tensor([3.423, 1.468, 0.8952, 0.4297, 0.1506, 0.2868, 0.8887, 4.5, 21.904, 1355.1639])\n",
    "assert dummy_kl.shape == dummy_kl_ref.shape, \"please return a batch of KL divergence with the same shape as self.loc\"\n",
    "assert torch.allclose(dummy_kl, dummy_kl_ref, rtol=1e-3, atol=1e-3), \"your KL implementation is off\""
   ]
  },
  {
   "cell_type": "markdown",
   "metadata": {
    "colab_type": "text",
    "id": "SsgJqripsmDP"
   },
   "source": [
    "Then we should implement the inference model $q(z | x, \\lambda)$:"
   ]
  },
  {
   "cell_type": "code",
   "execution_count": 15,
   "metadata": {
    "colab": {},
    "colab_type": "code",
    "id": "XUqjJzdXYtMa"
   },
   "outputs": [],
   "source": [
    "class InferenceModel(nn.Module):\n",
    "\n",
    "    def __init__(self, vocab_size, embedder, hidden_size,\n",
    "                 latent_size, pad_idx, bidirectional=False):\n",
    "        \"\"\"\n",
    "        Implement the layers in the inference model.\n",
    "        \n",
    "        :param vocab_size: size of the vocabulary of the language\n",
    "        :param embedder: embedding layer\n",
    "        :param hidden_size: size of recurrent cell\n",
    "        :param latent_size: size D of the latent variable\n",
    "        :param pad_idx: id of the -PAD- token\n",
    "        :param bidirectional: whether we condition on x via a bidirectional or \n",
    "          unidirectional encoder\n",
    "        \"\"\"\n",
    "        super().__init__()\n",
    "        \n",
    "        self.emb_layer = embedder\n",
    "        emb_size = self.emb_layer.embedding_dim\n",
    "        self.lstm = nn.LSTM(emb_size, hidden_size, batch_first=True, \n",
    "                            bidirectional=bidirectional)\n",
    "        \n",
    "        encoding_size = hidden_size * 2 if bidirectional else hidden_size\n",
    "        self.latent_layer = nn.Linear(encoding_size, 2 * latent_size)\n",
    "        \n",
    "        self.mu_layer = nn.Linear(2 * latent_size, latent_size)\n",
    "        self.sigma_layer = nn.Linear(2 * latent_size, latent_size)\n",
    "        \n",
    "\n",
    "    def forward(self, x, seq_mask, seq_len) -> Normal:\n",
    "        \"\"\"\n",
    "        Return an inference Gaussian per instance in the mini-batch\n",
    "        :param x: sentences [B, T] as token ids\n",
    "        :param seq_mask: indicates valid positions vs padding positions [B, T]\n",
    "        :param seq_len: the length of the sequences [B]\n",
    "        :return: Gaussian approximate posterior\n",
    "        \"\"\"\n",
    "        \n",
    "        embs = self.emb_layer(x).detach()\n",
    "        packed_embs = pack_padded_sequence(embs, seq_len, batch_first=True)\n",
    "        _, (h_n, c_n) = self.lstm(packed_embs, None)\n",
    "        if self.lstm.bidirectional:\n",
    "            h_n = torch.cat([h_n[0], h_n[1]], dim=-1)\n",
    "        h = torch.tanh(self.latent_layer(h_n))\n",
    "        \n",
    "        mu = self.mu_layer(h)\n",
    "        sigma = F.softplus(self.sigma_layer(h))\n",
    "\n",
    "        return Normal(mu, sigma)"
   ]
  },
  {
   "cell_type": "code",
   "execution_count": 16,
   "metadata": {
    "colab": {},
    "colab_type": "code",
    "id": "dc05nZtd3s9l"
   },
   "outputs": [],
   "source": [
    "# tests for inference model\n",
    "pad_idx = vocab.word_to_idx['<pad>']\n",
    "\n",
    "dummy_inference_model = InferenceModel(\n",
    "    vocab_size=vocab.size(),\n",
    "    embedder=nn.Embedding(vocab.size(), 64, padding_idx=pad_idx),\n",
    "    hidden_size=128, latent_size=16, pad_idx=pad_idx, bidirectional=True\n",
    ").to(device=device)\n",
    "dummy_batch_size = 32\n",
    "dummy_dataloader = SortingTextDataLoader(DataLoader(train_dataset, batch_size=dummy_batch_size))\n",
    "dummy_sentences = next(dummy_dataloader)\n",
    "\n",
    "x_in, _, seq_mask, seq_len = create_batch(dummy_sentences, vocab, device)\n",
    "\n",
    "q_z_given_x = dummy_inference_model.forward(x_in, seq_mask, seq_len)\n",
    "assert isinstance(q_z_given_x, Normal), \"inference model should return a Normal distribution\"\n",
    "assert q_z_given_x.loc.shape == q_z_given_x.scale.shape, \"loc and scale must be of the same size\"\n",
    "assert q_z_given_x.loc.shape == (dummy_batch_size, 16), \"model must produce [batch_size x latent_size] units.\"\n",
    "assert torch.all(q_z_given_x.scale >= 0), \"scale can't be negative\""
   ]
  },
  {
   "cell_type": "markdown",
   "metadata": {
    "colab_type": "text",
    "id": "EB7rVW7ZsBHP"
   },
   "source": [
    "Then we should implement the generative model, we call it BowmanLM after one of the [authors of the model](https://arxiv.org/abs/1511.06349)."
   ]
  },
  {
   "cell_type": "code",
   "execution_count": 17,
   "metadata": {
    "colab": {},
    "colab_type": "code",
    "id": "LXXS-JDbpRND"
   },
   "outputs": [],
   "source": [
    "class BowmanLM(nn.Module):\n",
    "    def __init__(self, vocab_size, emb_size, hidden_size, latent_size,\n",
    "                 pad_idx, dropout=0.):\n",
    "        \"\"\"\n",
    "        :param vocab_size: size of the vocabulary of the language\n",
    "        :param emb_size: dimensionality of embeddings\n",
    "        :param hidden_size: dimensionality of recurrent cell\n",
    "        :param latent_size: this is D the dimensionality of the latent variable z\n",
    "        :param pad_idx: the id reserved to the -PAD- token\n",
    "        :param dropout: a dropout rate (you can ignore this for now)\n",
    "        \"\"\"\n",
    "        super().__init__()\n",
    "        self.pad_idx = pad_idx\n",
    "        self.embedder = nn.Embedding(vocab_size, emb_size, padding_idx=pad_idx)\n",
    "        self.lstm = nn.LSTM(emb_size, hidden_size, batch_first=True)\n",
    "        self.bridge = nn.Linear(latent_size, hidden_size)\n",
    "        self.projection = nn.Linear(hidden_size, vocab_size, bias=False)\n",
    "        self.dropout_layer = nn.Dropout(p=dropout)\n",
    "    \n",
    "    def init_hidden(self, z):\n",
    "        \"\"\"\n",
    "        Returns the hidden state of the LSTM initialized with a projection of a given z.\n",
    "        :param z: [B, D]\n",
    "        :returns: [B, D] hidden state, [B, D] cell state\n",
    "        \"\"\"\n",
    "        h = self.bridge(z).unsqueeze(0)\n",
    "        c = self.bridge(z).unsqueeze(0)\n",
    "        return (h, c)\n",
    "    \n",
    "    def step(self, prev_x, z, hidden):\n",
    "        \"\"\"\n",
    "        Performs a single LSTM step for a given previous word and hidden state.\n",
    "        Returns the unnormalized log probabilities (logits) over the vocabulary for this time step. \n",
    "        :param prev_x: [B] id of the previous token\n",
    "        :param z: [B, D] latent variable\n",
    "        :param hidden:  hidden ([B, H] state, [B, H] cell)\n",
    "        \"\"\"\n",
    "        x_embed = self.dropout_layer(self.embedder(prev_x))\n",
    "        output, hidden = self.lstm(x_embed, hidden)\n",
    "        scores = self.projection(self.dropout_layer(output))\n",
    "        return scores, hidden\n",
    "    \n",
    "    def forward(self, x, z):\n",
    "        \"\"\"\n",
    "        Performs an entire forward pass given a sequence of words x and a z.\n",
    "        :param x: [B, T] token ids\n",
    "        :param z: [B, D] a latent sample\n",
    "        \"\"\"\n",
    "        hidden = self.init_hidden(z)\n",
    "        outputs = []\n",
    "        for t in range(x.size(1)):  # through time\n",
    "            prev_x = x[:, t].unsqueeze(-1)\n",
    "            scores, hidden = self.step(prev_x, z, hidden)\n",
    "            outputs.append(scores)\n",
    "        return torch.cat(outputs, dim=1)\n",
    "    \n",
    "    def loss(self, scores, targets, pz, qz, free_nats=0., evaluation=False):\n",
    "        \"\"\"\n",
    "        Computes the terms in the loss (negative ELBO) given the \n",
    "            scores (unnormalized log-probabilities), targets,\n",
    "        the prior distribution p(z), and the approximate posterior distribution q(z|x).\n",
    "        \n",
    "        If free_nats is nonzero it will clamp the KL divergence between the posterior\n",
    "        and prior to that value, preventing gradient propagation via the KL if it's\n",
    "        below that value. \n",
    "        \n",
    "        If evaluation is set to true, the loss will be summed instead\n",
    "        of averaged over the batch. \n",
    "        \n",
    "        Returns the reconstruction loss and the KL. \n",
    "        \n",
    "        The loss\n",
    "        can be computed from those as loss = rec_loss - KL.\n",
    "        \n",
    "        :returns:\n",
    "            negative log likelihood (scalar), KL (scalar)\n",
    "            (use mean for training mode and sum for evaluation mode)\n",
    "        \"\"\"\n",
    "        \n",
    "        # Approximate E[log P(x|z)].\n",
    "        scores = scores.permute(0, 2, 1)\n",
    "        reconstruction_loss = F.cross_entropy(scores, targets, \n",
    "                                              ignore_index=self.pad_idx, \n",
    "                                              reduction=\"none\")\n",
    "        reconstruction_loss = reconstruction_loss.sum(dim=1)  # sum through time\n",
    "        # Compute the KL divergence and clamp to at least the given amount of free nats\n",
    "        KL = qz.kl(pz).sum(dim=1)\n",
    "        KL = torch.clamp(KL, min=free_nats)\n",
    "        \n",
    "        # For evaluation return the sum of individual components, for\n",
    "        # training return the mean of those components.\n",
    "        if evaluation:\n",
    "            return (reconstruction_loss.sum(), KL.sum())\n",
    "        else:\n",
    "            return (reconstruction_loss.mean(), KL.mean())"
   ]
  },
  {
   "cell_type": "markdown",
   "metadata": {
    "colab_type": "text",
    "id": "53Aztjb5ScR2"
   },
   "source": [
    "The code below is used to assess the model and also investigate what it learned. We implemented it for you, so that you can focus on the VAE part. It's useful however to learn from this example: we do interesting things like computing perplexity and sampling novel sentences!"
   ]
  },
  {
   "cell_type": "markdown",
   "metadata": {
    "colab_type": "text",
    "id": "PLfa31jEScR7"
   },
   "source": [
    "# Evaluation metrics\n",
    "\n",
    "During training we'd like to keep track of some evaluation metrics on the validation data in order to keep track of how our model is doing and to perform early stopping. One simple metric we can compute is the ELBO on all the validation or test data using a single sample from the approximate posterior $q(z|x)$:"
   ]
  },
  {
   "cell_type": "code",
   "execution_count": 18,
   "metadata": {
    "colab": {},
    "colab_type": "code",
    "id": "URdX_JJ5ScR9"
   },
   "outputs": [],
   "source": [
    "def eval_elbo(model, inference_model, eval_dataset, vocab, device, batch_size=128):\n",
    "    \"\"\"\n",
    "    Computes a single sample estimate of the ELBO on a given dataset.\n",
    "    \"\"\"\n",
    "    dl = DataLoader(eval_dataset, batch_size=batch_size)\n",
    "    sorted_dl = SortingTextDataLoader(dl)\n",
    "    \n",
    "    # Make sure the model is in evaluation mode (i.e. disable dropout).\n",
    "    model.eval()\n",
    "\n",
    "    total_rec_loss = 0.\n",
    "    total_KL = 0.\n",
    "    num_sentences = 0\n",
    "        \n",
    "    # We don't need to compute gradients for this.\n",
    "    with torch.no_grad():\n",
    "        for sentences in sorted_dl:    \n",
    "            x_in, x_out, seq_mask, seq_len = create_batch(sentences, vocab, device)\n",
    "            \n",
    "            # Infer the approximate posterior and construct the prior.\n",
    "            qz = inference_model(x_in, seq_mask, seq_len)\n",
    "            pz = Normal(torch.zeros_like(qz.mean()), \n",
    "                        torch.ones_like(qz.std()))\n",
    "            \n",
    "            # Compute the unnormalized probabilities using a single sample from the\n",
    "            # approximate posterior.\n",
    "            z = qz.sample()\n",
    "            scores = model(x_in, z)\n",
    "            \n",
    "            # Compute the reconstruction loss and KL divergence.\n",
    "            reconstruction_loss, KL = model.loss(scores, x_out, pz, qz,\n",
    "                                                 free_nats=0.,\n",
    "                                                 evaluation=True)\n",
    "            total_rec_loss += reconstruction_loss\n",
    "            total_KL += KL\n",
    "            num_sentences += x_in.size(0)\n",
    "\n",
    "    # Return the average reconstruction loss and KL.\n",
    "    avg_rec_loss = total_rec_loss / num_sentences\n",
    "    avg_KL = total_KL / num_sentences\n",
    "    return avg_rec_loss, avg_KL"
   ]
  },
  {
   "cell_type": "code",
   "execution_count": 19,
   "metadata": {
    "colab": {
     "base_uri": "https://localhost:8080/",
     "height": 46
    },
    "colab_type": "code",
    "id": "dNxOoesR4Hh5",
    "outputId": "26afd358-8050-484e-da03-fcb120a4b025"
   },
   "outputs": [
    {
     "name": "stdout",
     "output_type": "stream",
     "text": [
      "tensor(201.0963, device='cuda:2') tensor(1.7132, device='cuda:2')\n"
     ]
    }
   ],
   "source": [
    "# test for your BowmanLM implementation with elbo. This may take a few seconds\n",
    "dummy_lm = BowmanLM(vocab.size(), emb_size=64, hidden_size=128, \n",
    "                        latent_size=16, pad_idx=pad_idx).to(device=device)\n",
    "\n",
    "!head -n 128 {val_file} > ./dummy_dataset\n",
    "dummy_data = TextDataset('./dummy_dataset')\n",
    "dummy_rec_loss, dummy_kl = eval_elbo(dummy_lm, dummy_inference_model,\n",
    "                                     dummy_data, vocab, device)\n",
    "print(dummy_rec_loss, dummy_kl)\n",
    "assert dummy_rec_loss.item() > 0 and dummy_kl.item() > 0"
   ]
  },
  {
   "cell_type": "markdown",
   "metadata": {
    "colab_type": "text",
    "id": "tGO7RBYgScR_"
   },
   "source": [
    "\n",
    "A common metric to evaluate language models is the perplexity per word. The perplexity per word for a dataset is defined as:\n",
    "\n",
    "\\begin{align}\n",
    "    \\text{ppl}(\\mathcal{D}) = \\exp\\left(-\\frac{1}{\\sum_{k=1}^{|\\mathcal D|} n^{(k)}} \\sum_{k=1}^{|\\mathcal{D}|} \\log P(x^{(k)})\\right) \n",
    "\\end{align}\n",
    "\n",
    "where $n^{(k)} = |x^{(k)}|$ is the number of tokens in a sentence and $P(x^{(k)})$ is the probability that our model assigns to the datapoint $x^{(k)}$. In order to compute $\\log P(x)$ for our model we need to evaluate the integral:\n",
    "\n",
    "\\begin{align}\n",
    "    P(x) = \\int P(x|z) p(z) dz\n",
    "\\end{align}\n",
    "\n",
    "As this is an integral  cannot be compute in closed-form, we have two options: we can use the earlier derived lower-bound on the log-likelihood, which will give us an upper-bound on the perplexity, or we can make an importance sampling estimate using our approximate posterior distribution. The importance sampling (IS) estimate can be done as:\n",
    "\n",
    "\\begin{align}\n",
    "\\hat P(x) &\\overset{\\text{IS}}{\\approx} \\frac{1}{S} \\sum_{s=1}^{S} \\frac{p(z^{(s)})p(x|z^{(s)})}{q(z^{(s)}|x)} & \\text{where }z^{(s)} \\sim q(z|x)\n",
    "\\end{align}\n",
    "\n",
    "where $S$ is the number of samples.\n",
    "\n",
    "Then our perplexity becomes:\n",
    "\\begin{align}\n",
    "    &\\frac{1}{\\sum_{k=1}^{|\\mathcal D|} n^{(k)}}  \\sum_{k=1}^{|\\mathcal D|} \\log p(x^{(k)}) \\\\\n",
    "    &\\approx \\frac{1}{\\sum_{k=1}^{|\\mathcal D|} n^{(k)}}  \\sum_{k=1}^{|\\mathcal D|} \\log \\frac{1}{S} \\sum_{s=1}^{S} \\frac{p(z^{(s)})p(x^{(k)}|z^{(s)})}{q(z^{(s)}|x^{(k)})} \\\\\n",
    "\\end{align}\n",
    "\n",
    "We define the function `eval_perplexity` below that implements this importance sampling estimate:"
   ]
  },
  {
   "cell_type": "code",
   "execution_count": 20,
   "metadata": {
    "colab": {},
    "colab_type": "code",
    "id": "VnaIidkwScSA"
   },
   "outputs": [],
   "source": [
    "def eval_perplexity(model, inference_model, eval_dataset, vocab, device, \n",
    "                    n_samples, batch_size=128):\n",
    "    \"\"\"\n",
    "    Estimates the per-word perplexity using importance sampling with the\n",
    "    given number of samples.\n",
    "    \"\"\"\n",
    "    \n",
    "    dl = DataLoader(eval_dataset, batch_size=batch_size)\n",
    "    sorted_dl = SortingTextDataLoader(dl)\n",
    "    \n",
    "    # Make sure the model is in evaluation mode (i.e. disable dropout).\n",
    "    model.eval()\n",
    "    \n",
    "    log_px = 0.\n",
    "    num_predictions = 0\n",
    "    num_sentences = 0\n",
    "     \n",
    "    # We don't need to compute gradients for this.\n",
    "    with torch.no_grad():\n",
    "        for sentences in sorted_dl:\n",
    "            x_in, x_out, seq_mask, seq_len = create_batch(sentences, vocab, device)\n",
    "            \n",
    "            # Infer the approximate posterior and construct the prior.\n",
    "            qz = inference_model(x_in, seq_mask, seq_len)\n",
    "            pz = Normal(torch.zeros_like(qz.mean()), torch.ones_like(qz.std()))\n",
    "\n",
    "            # Create an array to hold all samples for this batch.\n",
    "            batch_size = x_in.size(0)\n",
    "            log_px_samples = torch.zeros(n_samples, batch_size)\n",
    "            \n",
    "            # Sample log P(x) n_samples times.\n",
    "            for s in range(n_samples):\n",
    "                \n",
    "                # Sample a z^s from the posterior.\n",
    "                z = qz.sample()\n",
    "                \n",
    "                # Compute log P(x^k|z^s)\n",
    "                scores = model(x_in, z)\n",
    "                cond_log_prob = F.log_softmax(scores, dim=-1)\n",
    "                cond_log_prob = torch.gather(cond_log_prob, 2, x_out.unsqueeze(-1)).squeeze() # B x T\n",
    "                cond_log_prob = (cond_log_prob * seq_mask.type_as(cond_log_prob)).sum(dim=1) # B\n",
    "                \n",
    "                # Compute log p(z^s) and log q(z^s|x^k)\n",
    "                prior_log_prob = pz.log_pdf(z).sum(dim=1) # B\n",
    "                posterior_log_prob = qz.log_pdf(z).sum(dim=1) # B\n",
    "                \n",
    "                # Store the sample for log P(x^k) importance weighted with p(z^s)/q(z^s|x^k).\n",
    "                log_px_sample = cond_log_prob + prior_log_prob - posterior_log_prob\n",
    "                log_px_samples[s] = log_px_sample\n",
    "                \n",
    "            # Average over the number of samples and count the number of predictions made this batch.\n",
    "            log_px_batch = torch.logsumexp(log_px_samples, dim=0) - \\\n",
    "                    torch.log(torch.Tensor([n_samples]))\n",
    "            log_px += log_px_batch.sum()\n",
    "            num_predictions += seq_len.sum()\n",
    "            num_sentences += seq_len.size(0)\n",
    "\n",
    "    # Compute and return the perplexity per word.\n",
    "    perplexity = torch.exp(-log_px / num_predictions)\n",
    "    NLL = -log_px / num_sentences\n",
    "    return perplexity, NLL"
   ]
  },
  {
   "cell_type": "markdown",
   "metadata": {
    "colab_type": "text",
    "id": "IvoVmedYScSC"
   },
   "source": [
    "Lastly, we want to occasionally qualitatively see the performance of the model during training, by letting it reconstruct a given sentence from the latent space. This gives us an idea of whether the model is using the latent space to encode some semantics about the data. For this we use a deterministic greedy decoding algorithm, that chooses the word with maximum probability at every time step, and feeds that word into the next time step."
   ]
  },
  {
   "cell_type": "code",
   "execution_count": 21,
   "metadata": {
    "colab": {},
    "colab_type": "code",
    "id": "LDD5XF1GScSC"
   },
   "outputs": [],
   "source": [
    "def greedy_decode(model, z, vocab, max_len=50):\n",
    "    \"\"\"\n",
    "    Greedily decodes a sentence from a given z, by picking the word with\n",
    "    maximum probability at each time step.\n",
    "    \"\"\"\n",
    "    \n",
    "    # Disable dropout.\n",
    "    model.eval()\n",
    "    \n",
    "    # Don't compute gradients.\n",
    "    with torch.no_grad():\n",
    "        batch_size = z.size(0)\n",
    "        \n",
    "        # We feed the model the start-of-sentence symbol at the first time step.\n",
    "        prev_x = torch.ones(batch_size, 1, dtype=torch.long).fill_(vocab[SOS_TOKEN]).to(z.device)\n",
    "        \n",
    "        # Initialize the hidden state from z.\n",
    "        hidden = model.init_hidden(z)\n",
    "\n",
    "        predictions = []\n",
    "        for t in range(max_len):\n",
    "            scores, hidden = model.step(prev_x, z, hidden)\n",
    "            \n",
    "            # Choose the argmax of the unnnormalized probabilities as the\n",
    "            # prediction for this time step.\n",
    "            prediction = torch.argmax(scores, dim=-1)\n",
    "            predictions.append(prediction)\n",
    "            \n",
    "            prev_x = prediction.view(batch_size, 1)\n",
    "            \n",
    "        return torch.cat(predictions, dim=1)"
   ]
  },
  {
   "cell_type": "markdown",
   "metadata": {
    "colab_type": "text",
    "id": "GERuGgChScSE"
   },
   "source": [
    "# Training\n",
    "\n",
    "Now it's time to train the model. We use early stopping on the validation perplexity for model selection."
   ]
  },
  {
   "cell_type": "code",
   "execution_count": 22,
   "metadata": {
    "colab": {
     "base_uri": "https://localhost:8080/",
     "height": 3386
    },
    "colab_type": "code",
    "id": "XH6ocHxaScSF",
    "outputId": "55ac32d8-3539-43cc-964d-414c74f67a24",
    "scrolled": true
   },
   "outputs": [
    {
     "name": "stdout",
     "output_type": "stream",
     "text": [
      "(1) step 0: training ELBO (KL) = -196.57 (5.0000) -- KL weight = 0.00 -- validation ELBO (KL) = -197.16 (1.9932)\n",
      "(1) step 100: training ELBO (KL) = -136.66 (16.4289) -- KL weight = 0.01 -- validation ELBO (KL) = -121.14 (14.5677)\n",
      "(1) step 200: training ELBO (KL) = -126.89 (10.9698) -- KL weight = 0.02 -- validation ELBO (KL) = -126.08 (7.1321)\n",
      "(1) step 300: training ELBO (KL) = -130.80 (6.1360) -- KL weight = 0.03 -- validation ELBO (KL) = -124.92 (6.3052)\n",
      "(1) step 400: training ELBO (KL) = -127.19 (5.9310) -- KL weight = 0.04 -- validation ELBO (KL) = -123.18 (6.1317)\n",
      "(1) step 500: training ELBO (KL) = -127.13 (5.9715) -- KL weight = 0.04 -- validation ELBO (KL) = -121.54 (6.2612)\n",
      "Finished epoch 1\n",
      "Evaluation epoch 1:\n",
      " - validation perplexity: 1231.90\n",
      " - validation NLL: 132.21\n",
      " - validation ELBO (KL) = -121.49 (5.96)\n",
      "-- Original sentence: \"It would have been too late to think about on Friday\"\n",
      "-- Model reconstruction: \"The company 's the company 's the company 's the company 's the company 's the company 's the company 's the company of the company 's the company of the company 's the company of the company 's the company of the company 's the company of the company\"\n",
      "(2) step 600: training ELBO (KL) = -126.02 (6.0154) -- KL weight = 0.05 -- validation ELBO (KL) = -119.69 (6.6091)\n",
      "(2) step 700: training ELBO (KL) = -123.39 (6.1769) -- KL weight = 0.06 -- validation ELBO (KL) = -118.48 (6.4383)\n",
      "(2) step 800: training ELBO (KL) = -122.38 (6.4391) -- KL weight = 0.07 -- validation ELBO (KL) = -117.06 (6.6439)\n",
      "(2) step 900: training ELBO (KL) = -121.30 (6.5735) -- KL weight = 0.08 -- validation ELBO (KL) = -116.04 (6.6441)\n",
      "(2) step 1000: training ELBO (KL) = -120.28 (6.6059) -- KL weight = 0.09 -- validation ELBO (KL) = -114.87 (6.7793)\n",
      "Finished epoch 2\n",
      "Evaluation epoch 2:\n",
      " - validation perplexity: 935.54\n",
      " - validation NLL: 127.09\n",
      " - validation ELBO (KL) = -114.84 (6.59)\n",
      "-- Original sentence: \"Knight-Ridder Inc. said it would report increased earnings per share for the third quarter contrary to reported analysts ' comments that the publishing company 's earnings would be down\"\n",
      "-- Model reconstruction: \"An the company 's the company 's the company 's the company 's the company 's the company 's the company 's the company 's the company 's the company 's\"\n",
      "(3) step 1100: training ELBO (KL) = -118.78 (6.5250) -- KL weight = 0.10 -- validation ELBO (KL) = -114.58 (6.6749)\n",
      "(3) step 1200: training ELBO (KL) = -117.81 (6.4864) -- KL weight = 0.11 -- validation ELBO (KL) = -113.78 (6.3303)\n",
      "(3) step 1300: training ELBO (KL) = -117.26 (6.3385) -- KL weight = 0.11 -- validation ELBO (KL) = -112.97 (6.3614)\n",
      "(3) step 1400: training ELBO (KL) = -118.47 (6.1988) -- KL weight = 0.12 -- validation ELBO (KL) = -112.51 (6.2583)\n",
      "(3) step 1500: training ELBO (KL) = -117.51 (6.0984) -- KL weight = 0.13 -- validation ELBO (KL) = -111.88 (6.0808)\n",
      "Finished epoch 3\n",
      "Evaluation epoch 3:\n",
      " - validation perplexity: 747.01\n",
      " - validation NLL: 122.91\n",
      " - validation ELBO (KL) = -111.45 (6.05)\n",
      "-- Original sentence: \"The ad would have run during the World Series tomorrow replacing the debut commercial of Shearson 's new ad campaign Leadership by Example\"\n",
      "-- Model reconstruction: \"The company said it is n't be a new company 's the company 's the company 's the company 's the company 's the company 's\"\n",
      "(4) step 1600: training ELBO (KL) = -115.93 (5.9842) -- KL weight = 0.14 -- validation ELBO (KL) = -111.51 (5.9962)\n",
      "(4) step 1700: training ELBO (KL) = -115.59 (5.9960) -- KL weight = 0.15 -- validation ELBO (KL) = -110.79 (6.1040)\n",
      "(4) step 1800: training ELBO (KL) = -115.61 (5.9593) -- KL weight = 0.16 -- validation ELBO (KL) = -111.18 (5.7892)\n",
      "(4) step 1900: training ELBO (KL) = -115.40 (5.9117) -- KL weight = 0.17 -- validation ELBO (KL) = -110.11 (5.8473)\n",
      "(4) step 2000: training ELBO (KL) = -114.90 (5.8901) -- KL weight = 0.18 -- validation ELBO (KL) = -109.82 (5.8042)\n",
      "(4) step 2100: training ELBO (KL) = -114.29 (5.8579) -- KL weight = 0.18 -- validation ELBO (KL) = -109.39 (5.8036)\n",
      "Finished epoch 4\n",
      "Evaluation epoch 4:\n",
      " - validation perplexity: 652.11\n",
      " - validation NLL: 120.39\n",
      " - validation ELBO (KL) = -109.56 (5.67)\n",
      "-- Original sentence: \"The grand marshal of this parade would appear to have been excess leverage\"\n",
      "-- Model reconstruction: \"The company said it is n't be a lot of the company 's\"\n",
      "(5) step 2200: training ELBO (KL) = -113.26 (5.8893) -- KL weight = 0.19 -- validation ELBO (KL) = -109.04 (5.9846)\n",
      "(5) step 2300: training ELBO (KL) = -113.20 (5.8068) -- KL weight = 0.20 -- validation ELBO (KL) = -108.73 (5.7380)\n",
      "(5) step 2400: training ELBO (KL) = -112.39 (5.7392) -- KL weight = 0.21 -- validation ELBO (KL) = -108.36 (5.7760)\n",
      "(5) step 2500: training ELBO (KL) = -112.54 (5.7592) -- KL weight = 0.22 -- validation ELBO (KL) = -108.17 (5.7564)\n",
      "(5) step 2600: training ELBO (KL) = -112.84 (5.7284) -- KL weight = 0.23 -- validation ELBO (KL) = -107.49 (5.8131)\n",
      "Finished epoch 5\n",
      "Evaluation epoch 5:\n",
      " - validation perplexity: 589.03\n",
      " - validation NLL: 118.50\n",
      " - validation ELBO (KL) = -107.68 (5.61)\n",
      "-- Original sentence: \"That 's not an average to soothe Giant rooters\"\n",
      "-- Model reconstruction: \"And the company 's a few years ago\"\n",
      "(6) step 2700: training ELBO (KL) = -111.42 (5.7587) -- KL weight = 0.24 -- validation ELBO (KL) = -107.34 (5.7346)\n",
      "(6) step 2800: training ELBO (KL) = -111.29 (5.7362) -- KL weight = 0.25 -- validation ELBO (KL) = -107.38 (5.6506)\n",
      "(6) step 2900: training ELBO (KL) = -110.98 (5.6905) -- KL weight = 0.25 -- validation ELBO (KL) = -106.83 (5.6567)\n",
      "(6) step 3000: training ELBO (KL) = -109.81 (5.6735) -- KL weight = 0.26 -- validation ELBO (KL) = -106.84 (5.7095)\n",
      "(6) step 3100: training ELBO (KL) = -111.10 (5.6404) -- KL weight = 0.27 -- validation ELBO (KL) = -106.48 (5.6814)\n",
      "Finished epoch 6\n",
      "Evaluation epoch 6:\n",
      " - validation perplexity: 555.28\n",
      " - validation NLL: 117.40\n",
      " - validation ELBO (KL) = -106.28 (5.75)\n",
      "-- Original sentence: \"The Dow Jones Industrial Average opened down 1.64 shortly after 9:30\"\n",
      "-- Model reconstruction: \"The company said it was n't disclosed to be a share\"\n",
      "(7) step 3200: training ELBO (KL) = -110.54 (5.6660) -- KL weight = 0.28 -- validation ELBO (KL) = -106.36 (5.6868)\n",
      "(7) step 3300: training ELBO (KL) = -109.72 (5.6948) -- KL weight = 0.29 -- validation ELBO (KL) = -106.22 (5.6696)\n",
      "(7) step 3400: training ELBO (KL) = -110.37 (5.6259) -- KL weight = 0.30 -- validation ELBO (KL) = -105.79 (5.6611)\n",
      "(7) step 3500: training ELBO (KL) = -109.15 (5.6420) -- KL weight = 0.31 -- validation ELBO (KL) = -105.78 (5.6402)\n",
      "(7) step 3600: training ELBO (KL) = -108.69 (5.6348) -- KL weight = 0.32 -- validation ELBO (KL) = -105.49 (5.6378)\n",
      "Finished epoch 7\n",
      "Evaluation epoch 7:\n",
      " - validation perplexity: 525.60\n",
      " - validation NLL: 116.38\n",
      " - validation ELBO (KL) = -105.56 (5.60)\n",
      "-- Original sentence: \"PRIME RATE 10 1\\/2 %\"\n",
      "-- Model reconstruction: \"Revenue rose to yield %\"\n",
      "(8) step 3700: training ELBO (KL) = -108.08 (5.6191) -- KL weight = 0.32 -- validation ELBO (KL) = -105.27 (5.6456)\n",
      "(8) step 3800: training ELBO (KL) = -108.00 (5.5995) -- KL weight = 0.33 -- validation ELBO (KL) = -105.29 (5.6986)\n",
      "(8) step 3900: training ELBO (KL) = -107.48 (5.5751) -- KL weight = 0.34 -- validation ELBO (KL) = -105.21 (5.5760)\n",
      "(8) step 4000: training ELBO (KL) = -107.80 (5.5782) -- KL weight = 0.35 -- validation ELBO (KL) = -105.80 (5.5009)\n",
      "(8) step 4100: training ELBO (KL) = -108.03 (5.5604) -- KL weight = 0.36 -- validation ELBO (KL) = -104.72 (5.6314)\n",
      "(8) step 4200: training ELBO (KL) = -108.55 (5.5215) -- KL weight = 0.37 -- validation ELBO (KL) = -104.68 (5.6083)\n",
      "Finished epoch 8\n",
      "Evaluation epoch 8:\n",
      " - validation perplexity: 499.17\n",
      " - validation NLL: 115.42\n",
      " - validation ELBO (KL) = -104.62 (5.58)\n",
      "-- Original sentence: \"A. manual typewriters B. black-and-white snapshots C. radio adventure shows\"\n",
      "-- Model reconstruction: \"FEDERAL FUNDS Inc. said it was a share in the third quarter\"\n",
      "(9) step 4300: training ELBO (KL) = -106.94 (5.5230) -- KL weight = 0.38 -- validation ELBO (KL) = -104.89 (5.4942)\n",
      "(9) step 4400: training ELBO (KL) = -106.40 (5.5348) -- KL weight = 0.39 -- validation ELBO (KL) = -104.59 (5.5764)\n",
      "(9) step 4500: training ELBO (KL) = -107.09 (5.5255) -- KL weight = 0.39 -- validation ELBO (KL) = -104.43 (5.5212)\n"
     ]
    },
    {
     "name": "stdout",
     "output_type": "stream",
     "text": [
      "(9) step 4600: training ELBO (KL) = -106.88 (5.5157) -- KL weight = 0.40 -- validation ELBO (KL) = -104.10 (5.5650)\n",
      "(9) step 4700: training ELBO (KL) = -106.35 (5.5267) -- KL weight = 0.41 -- validation ELBO (KL) = -104.01 (5.5454)\n",
      "Finished epoch 9\n",
      "Evaluation epoch 9:\n",
      " - validation perplexity: 479.05\n",
      " - validation NLL: 114.66\n",
      " - validation ELBO (KL) = -104.02 (5.50)\n",
      "-- Original sentence: \"In a sharply weaker London market yesterday Waterford shares were down 15 pence at 50 pence 79 cents\"\n",
      "-- Model reconstruction: \"In the past time the company 's largest company said it was a loss of the company 's\"\n",
      "(10) step 4800: training ELBO (KL) = -106.14 (5.5081) -- KL weight = 0.42 -- validation ELBO (KL) = -104.12 (5.5555)\n",
      "(10) step 4900: training ELBO (KL) = -104.62 (5.5019) -- KL weight = 0.43 -- validation ELBO (KL) = -104.09 (5.5639)\n",
      "(10) step 5000: training ELBO (KL) = -105.84 (5.5069) -- KL weight = 0.44 -- validation ELBO (KL) = -103.94 (5.4810)\n",
      "(10) step 5100: training ELBO (KL) = -105.30 (5.4956) -- KL weight = 0.45 -- validation ELBO (KL) = -103.75 (5.5530)\n",
      "(10) step 5200: training ELBO (KL) = -107.33 (5.4820) -- KL weight = 0.46 -- validation ELBO (KL) = -103.68 (5.5193)\n",
      "Finished epoch 10\n",
      "Evaluation epoch 10:\n",
      " - validation perplexity: 468.14\n",
      " - validation NLL: 114.23\n",
      " - validation ELBO (KL) = -103.66 (5.47)\n",
      "-- Original sentence: \"In the opening game besides Steinbach and Stewart there was Walt Weiss a twiggy-looking second-year shortstop who had lost a couple months of the season to knee surgery\"\n",
      "-- Model reconstruction: \"In the past time the company 's largest company said it was a major company 's largest company 's largest stock market and the company 's largest\"\n",
      "(11) step 5300: training ELBO (KL) = -104.43 (5.4908) -- KL weight = 0.46 -- validation ELBO (KL) = -103.66 (5.5136)\n",
      "(11) step 5400: training ELBO (KL) = -104.96 (5.4679) -- KL weight = 0.47 -- validation ELBO (KL) = -103.76 (5.4598)\n",
      "(11) step 5500: training ELBO (KL) = -104.50 (5.4550) -- KL weight = 0.48 -- validation ELBO (KL) = -103.70 (5.4821)\n",
      "(11) step 5600: training ELBO (KL) = -104.80 (5.4527) -- KL weight = 0.49 -- validation ELBO (KL) = -103.55 (5.3750)\n",
      "(11) step 5700: training ELBO (KL) = -105.54 (5.4382) -- KL weight = 0.50 -- validation ELBO (KL) = -103.50 (5.4322)\n",
      "Finished epoch 11\n",
      "Evaluation epoch 11:\n",
      " - validation perplexity: 461.14\n",
      " - validation NLL: 113.95\n",
      " - validation ELBO (KL) = -103.45 (5.46)\n",
      "-- Original sentence: \"Pittsburg Kan.-based National Pizza said the transaction will be financed under revolving credit agreement\"\n",
      "-- Model reconstruction: \"The National Mortgage Corp. said it will be a new company for the company\"\n",
      "(12) step 5800: training ELBO (KL) = -104.15 (5.4143) -- KL weight = 0.51 -- validation ELBO (KL) = -103.89 (5.3932)\n",
      "(12) step 5900: training ELBO (KL) = -102.49 (5.4080) -- KL weight = 0.52 -- validation ELBO (KL) = -103.54 (5.3642)\n",
      "(12) step 6000: training ELBO (KL) = -103.96 (5.4084) -- KL weight = 0.53 -- validation ELBO (KL) = -103.32 (5.4327)\n",
      "(12) step 6100: training ELBO (KL) = -104.05 (5.3996) -- KL weight = 0.54 -- validation ELBO (KL) = -103.39 (5.4256)\n",
      "(12) step 6200: training ELBO (KL) = -104.25 (5.3767) -- KL weight = 0.54 -- validation ELBO (KL) = -103.22 (5.4198)\n",
      "(12) step 6300: training ELBO (KL) = -104.36 (5.3758) -- KL weight = 0.55 -- validation ELBO (KL) = -103.29 (5.4540)\n",
      "Finished epoch 12\n",
      "Evaluation epoch 12:\n",
      " - validation perplexity: 456.87\n",
      " - validation NLL: 113.78\n",
      " - validation ELBO (KL) = -103.43 (5.39)\n",
      "-- Original sentence: \"Analysts estimate those gains at 12 % to 13 % a good part of it coming from large orders placed by a few of NCR 's major customers\"\n",
      "-- Model reconstruction: \"Analysts say the company 's largest business is n't to be able to be able to be able to be able to be able to be a good\"\n",
      "(13) step 6400: training ELBO (KL) = -102.58 (5.3735) -- KL weight = 0.56 -- validation ELBO (KL) = -103.48 (5.3791)\n",
      "(13) step 6500: training ELBO (KL) = -103.40 (5.3462) -- KL weight = 0.57 -- validation ELBO (KL) = -103.52 (5.3408)\n",
      "(13) step 6600: training ELBO (KL) = -103.10 (5.3406) -- KL weight = 0.58 -- validation ELBO (KL) = -103.43 (5.3745)\n",
      "(13) step 6700: training ELBO (KL) = -102.61 (5.3439) -- KL weight = 0.59 -- validation ELBO (KL) = -103.12 (5.3788)\n",
      "(13) step 6800: training ELBO (KL) = -103.92 (5.3332) -- KL weight = 0.60 -- validation ELBO (KL) = -103.12 (5.3419)\n",
      "Finished epoch 13\n",
      "Evaluation epoch 13:\n",
      " - validation perplexity: 446.19\n",
      " - validation NLL: 113.34\n",
      " - validation ELBO (KL) = -103.13 (5.31)\n",
      "-- Original sentence: \"These are all market excesses putting aside the artificial boosts that the tax code gives to debt over equity and what we 've seen is the market reining them in\"\n",
      "-- Model reconstruction: \"When Mr. Peters 's departure is n't a lot of the U.S. and the U.S. and the U.S. and the U.S. and the U.S. and the U.S. and other things\"\n",
      "(14) step 6900: training ELBO (KL) = -103.97 (5.3191) -- KL weight = 0.61 -- validation ELBO (KL) = -103.14 (5.3235)\n",
      "(14) step 7000: training ELBO (KL) = -102.49 (5.3063) -- KL weight = 0.61 -- validation ELBO (KL) = -103.40 (5.3018)\n",
      "(14) step 7100: training ELBO (KL) = -101.67 (5.2927) -- KL weight = 0.62 -- validation ELBO (KL) = -103.39 (5.2390)\n",
      "(14) step 7200: training ELBO (KL) = -102.49 (5.2899) -- KL weight = 0.63 -- validation ELBO (KL) = -103.21 (5.3111)\n",
      "(14) step 7300: training ELBO (KL) = -102.57 (5.2792) -- KL weight = 0.64 -- validation ELBO (KL) = -103.15 (5.3098)\n",
      "Finished epoch 14\n",
      "Evaluation epoch 14:\n",
      " - validation perplexity: 444.09\n",
      " - validation NLL: 113.25\n",
      " - validation ELBO (KL) = -103.01 (5.28)\n",
      "-- Original sentence: \"A spokesman said the guerrillas would present a cease-fire proposal during the negotiations in Costa Rica that includes constitutional and economic changes\"\n",
      "-- Model reconstruction: \"A spokesman said it expects to be a new dividend of the company 's largest stock market and the company said\"\n",
      "(15) step 7400: training ELBO (KL) = -101.58 (5.2577) -- KL weight = 0.65 -- validation ELBO (KL) = -103.26 (5.2754)\n",
      "(15) step 7500: training ELBO (KL) = -101.37 (5.2637) -- KL weight = 0.66 -- validation ELBO (KL) = -103.40 (5.2781)\n",
      "(15) step 7600: training ELBO (KL) = -102.16 (5.2673) -- KL weight = 0.67 -- validation ELBO (KL) = -103.20 (5.2457)\n",
      "(15) step 7700: training ELBO (KL) = -101.89 (5.2603) -- KL weight = 0.68 -- validation ELBO (KL) = -103.27 (5.3335)\n",
      "(15) step 7800: training ELBO (KL) = -101.54 (5.2389) -- KL weight = 0.68 -- validation ELBO (KL) = -103.10 (5.2462)\n",
      "Finished epoch 15\n",
      "Evaluation epoch 15:\n",
      " - validation perplexity: 440.94\n",
      " - validation NLL: 113.12\n",
      " - validation ELBO (KL) = -103.04 (5.24)\n",
      "-- Original sentence: \"Mr. Bandow is a Cato Institute fellow\"\n",
      "-- Model reconstruction: \"Mr. Noriega 's departure is n't disclosed\"\n",
      "(16) step 7900: training ELBO (KL) = -101.73 (5.2375) -- KL weight = 0.69 -- validation ELBO (KL) = -103.16 (5.2506)\n",
      "(16) step 8000: training ELBO (KL) = -100.49 (5.2342) -- KL weight = 0.70 -- validation ELBO (KL) = -103.17 (5.2622)\n",
      "(16) step 8100: training ELBO (KL) = -101.10 (5.2242) -- KL weight = 0.71 -- validation ELBO (KL) = -103.09 (5.2325)\n",
      "(16) step 8200: training ELBO (KL) = -101.38 (5.2218) -- KL weight = 0.72 -- validation ELBO (KL) = -103.05 (5.2833)\n",
      "(16) step 8300: training ELBO (KL) = -101.01 (5.2029) -- KL weight = 0.73 -- validation ELBO (KL) = -103.27 (5.1954)\n",
      "(16) step 8400: training ELBO (KL) = -101.75 (5.1953) -- KL weight = 0.74 -- validation ELBO (KL) = -103.12 (5.1987)\n",
      "Finished epoch 16\n",
      "Evaluation epoch 16:\n",
      " - validation perplexity: 440.59\n",
      " - validation NLL: 113.10\n",
      " - validation ELBO (KL) = -103.16 (5.15)\n",
      "-- Original sentence: \"Under the agreement Intel will invest 3 million to acquire a 4 % stake in Alliant a maker of minisupercomputers for scientists and engineers\"\n",
      "-- Model reconstruction: \"As a result of the company 's largest stock market was priced at par to yield from 1.8470 billion yen from 1.17 billion yen\"\n",
      "(17) step 8500: training ELBO (KL) = -99.08 (5.1950) -- KL weight = 0.75 -- validation ELBO (KL) = -103.19 (5.1804)\n",
      "(17) step 8600: training ELBO (KL) = -100.39 (5.1861) -- KL weight = 0.75 -- validation ELBO (KL) = -103.29 (5.2017)\n",
      "(17) step 8700: training ELBO (KL) = -101.56 (5.1723) -- KL weight = 0.76 -- validation ELBO (KL) = -103.35 (5.1614)\n"
     ]
    },
    {
     "name": "stdout",
     "output_type": "stream",
     "text": [
      "(17) step 8800: training ELBO (KL) = -101.23 (5.1701) -- KL weight = 0.77 -- validation ELBO (KL) = -103.55 (5.0782)\n",
      "(17) step 8900: training ELBO (KL) = -100.52 (5.1635) -- KL weight = 0.78 -- validation ELBO (KL) = -103.18 (5.1881)\n",
      "Finished epoch 17\n",
      "Evaluation epoch 17:\n",
      " - validation perplexity: 444.19\n",
      " - validation NLL: 113.26\n",
      " - validation ELBO (KL) = -103.30 (5.19)\n",
      "-- Original sentence: \"While the advance cheered investors who feared a 1987-style crash would occur yesterday it was strictly a big-stock rally fed by huge buying by bargain-hunting institutions and program traders\"\n",
      "-- Model reconstruction: \"As a result of the U.S. and the U.S. and the company 's largest company said it will be a new company for the company 's largest company\"\n",
      "(18) step 9000: training ELBO (KL) = -100.86 (5.1759) -- KL weight = 0.79 -- validation ELBO (KL) = -103.65 (5.1377)\n",
      "(18) step 9100: training ELBO (KL) = -98.40 (5.1572) -- KL weight = 0.80 -- validation ELBO (KL) = -103.44 (5.1543)\n",
      "(18) step 9200: training ELBO (KL) = -100.27 (5.1538) -- KL weight = 0.81 -- validation ELBO (KL) = -103.42 (5.1581)\n",
      "(18) step 9300: training ELBO (KL) = -101.16 (5.1426) -- KL weight = 0.82 -- validation ELBO (KL) = -103.46 (5.1136)\n",
      "(18) step 9400: training ELBO (KL) = -100.53 (5.1329) -- KL weight = 0.82 -- validation ELBO (KL) = -103.32 (5.1956)\n",
      "Finished epoch 18\n",
      "Evaluation epoch 18:\n",
      " - validation perplexity: 442.39\n",
      " - validation NLL: 113.18\n",
      " - validation ELBO (KL) = -103.26 (5.15)\n",
      "-- Original sentence: \"Despite traders ' complaints Mr. Phelan said the links with the Chicago futures market worked as planned in Friday 's rout to provide a cooling-off period\"\n",
      "-- Model reconstruction: \"With the U.S. and the company 's largest business and the company 's largest business and the company 's largest business and the company 's largest business\"\n",
      "(19) step 9500: training ELBO (KL) = -99.70 (5.1422) -- KL weight = 0.83 -- validation ELBO (KL) = -103.63 (5.1494)\n",
      "(19) step 9600: training ELBO (KL) = -99.99 (5.1400) -- KL weight = 0.84 -- validation ELBO (KL) = -103.32 (5.1154)\n",
      "(19) step 9700: training ELBO (KL) = -99.19 (5.1313) -- KL weight = 0.85 -- validation ELBO (KL) = -103.53 (5.1254)\n",
      "(19) step 9800: training ELBO (KL) = -99.53 (5.1308) -- KL weight = 0.86 -- validation ELBO (KL) = -103.50 (5.1286)\n",
      "(19) step 9900: training ELBO (KL) = -99.24 (5.1275) -- KL weight = 0.87 -- validation ELBO (KL) = -103.53 (5.0998)\n",
      "Finished epoch 19\n",
      "Evaluation epoch 19:\n",
      " - validation perplexity: 447.50\n",
      " - validation NLL: 113.39\n",
      " - validation ELBO (KL) = -103.54 (5.11)\n",
      "-- Original sentence: \"Share prices plummeted across Europe yesterday in response to Friday 's New York sell-off but some issues staged a late comeback after Wall Street opened without another rout\"\n",
      "-- Model reconstruction: \"Rated single-A-2 by Moody 's Investors Service Inc. said it will be a new company for the company 's largest company 's largest company\"\n",
      "(20) step 10000: training ELBO (KL) = -99.96 (5.1253) -- KL weight = 0.88 -- validation ELBO (KL) = -103.73 (5.1462)\n",
      "(20) step 10100: training ELBO (KL) = -99.51 (5.1203) -- KL weight = 0.89 -- validation ELBO (KL) = -103.64 (5.1208)\n",
      "(20) step 10200: training ELBO (KL) = -98.39 (5.1203) -- KL weight = 0.89 -- validation ELBO (KL) = -103.85 (5.0669)\n",
      "(20) step 10300: training ELBO (KL) = -98.89 (5.1132) -- KL weight = 0.90 -- validation ELBO (KL) = -103.52 (5.1204)\n",
      "(20) step 10400: training ELBO (KL) = -99.63 (5.1134) -- KL weight = 0.91 -- validation ELBO (KL) = -103.53 (5.1119)\n",
      "(20) step 10500: training ELBO (KL) = -98.78 (5.1125) -- KL weight = 0.92 -- validation ELBO (KL) = -103.64 (5.0921)\n",
      "Finished epoch 20\n",
      "Evaluation epoch 20:\n",
      " - validation perplexity: 449.31\n",
      " - validation NLL: 113.47\n",
      " - validation ELBO (KL) = -103.59 (5.08)\n",
      "-- Original sentence: \"The decline in the German Stock Index of 203.56 points or 12.8 % to 1385.72 was the Frankfurt market 's steepest fall ever\"\n",
      "-- Model reconstruction: \"The company said it will be a new dividend of the company 's largest stock market and the company 's largest business\"\n",
      "(21) step 10600: training ELBO (KL) = -97.44 (5.1078) -- KL weight = 0.93 -- validation ELBO (KL) = -103.72 (5.1133)\n",
      "(21) step 10700: training ELBO (KL) = -97.16 (5.1076) -- KL weight = 0.94 -- validation ELBO (KL) = -103.73 (5.0877)\n",
      "(21) step 10800: training ELBO (KL) = -99.41 (5.1017) -- KL weight = 0.95 -- validation ELBO (KL) = -103.70 (5.0929)\n",
      "(21) step 10900: training ELBO (KL) = -99.22 (5.0973) -- KL weight = 0.96 -- validation ELBO (KL) = -103.55 (5.1403)\n",
      "(21) step 11000: training ELBO (KL) = -99.67 (5.0927) -- KL weight = 0.96 -- validation ELBO (KL) = -103.90 (5.0236)\n",
      "Finished epoch 21\n",
      "Evaluation epoch 21:\n",
      " - validation perplexity: 452.98\n",
      " - validation NLL: 113.62\n",
      " - validation ELBO (KL) = -103.86 (5.08)\n",
      "-- Original sentence: \"The MMI has gone better shouted one trader at about 3:15 London time as the U.S. Major Markets Index contract suddenly indicated a turnabout\"\n",
      "-- Model reconstruction: \"The company said it expects to be a new dividend of the company 's largest debt and the company 's largest business\"\n",
      "(22) step 11100: training ELBO (KL) = -98.79 (5.0868) -- KL weight = 0.97 -- validation ELBO (KL) = -103.88 (5.0728)\n",
      "(22) step 11200: training ELBO (KL) = -97.13 (5.0921) -- KL weight = 0.98 -- validation ELBO (KL) = -103.90 (5.0911)\n",
      "(22) step 11300: training ELBO (KL) = -98.22 (5.0913) -- KL weight = 0.99 -- validation ELBO (KL) = -103.97 (5.1004)\n",
      "(22) step 11400: training ELBO (KL) = -98.60 (5.0877) -- KL weight = 1.00 -- validation ELBO (KL) = -103.85 (5.0652)\n",
      "(22) step 11500: training ELBO (KL) = -98.14 (5.0873) -- KL weight = 1.00 -- validation ELBO (KL) = -104.06 (5.0472)\n",
      "Finished epoch 22\n",
      "Evaluation epoch 22:\n",
      " - validation perplexity: 454.69\n",
      " - validation NLL: 113.69\n",
      " - validation ELBO (KL) = -103.92 (5.07)\n",
      "-- Original sentence: \"Sales climbed to an estimated 245 million in fiscal 1989 ended Aug. 31 from 99.9 million in fiscal 1985\"\n",
      "-- Model reconstruction: \"Sales rose to 449 million from 1.69 million or 69 cents a share a year earlier\"\n",
      "(23) step 11600: training ELBO (KL) = -97.83 (5.0817) -- KL weight = 1.00 -- validation ELBO (KL) = -104.31 (5.0799)\n",
      "(23) step 11700: training ELBO (KL) = -97.85 (5.0884) -- KL weight = 1.00 -- validation ELBO (KL) = -104.03 (5.0836)\n",
      "(23) step 11800: training ELBO (KL) = -96.96 (5.0800) -- KL weight = 1.00 -- validation ELBO (KL) = -104.12 (5.0516)\n",
      "(23) step 11900: training ELBO (KL) = -97.79 (5.0892) -- KL weight = 1.00 -- validation ELBO (KL) = -104.27 (5.0557)\n",
      "(23) step 12000: training ELBO (KL) = -98.18 (5.0875) -- KL weight = 1.00 -- validation ELBO (KL) = -104.10 (5.0724)\n",
      "Finished epoch 23\n",
      "Evaluation epoch 23:\n",
      " - validation perplexity: 458.89\n",
      " - validation NLL: 113.86\n",
      " - validation ELBO (KL) = -104.18 (5.06)\n",
      "-- Original sentence: \"Now the firms must try hardest to prove that advertising can work this time around\"\n",
      "-- Model reconstruction: \"As a result of the U.S. and the company 's largest business is n't disclosed\"\n",
      "(24) step 12100: training ELBO (KL) = -97.59 (5.0805) -- KL weight = 1.00 -- validation ELBO (KL) = -104.00 (5.0789)\n",
      "(24) step 12200: training ELBO (KL) = -96.58 (5.0834) -- KL weight = 1.00 -- validation ELBO (KL) = -104.30 (5.0672)\n",
      "(24) step 12300: training ELBO (KL) = -97.51 (5.0809) -- KL weight = 1.00 -- validation ELBO (KL) = -104.74 (5.0656)\n",
      "(24) step 12400: training ELBO (KL) = -96.84 (5.0856) -- KL weight = 1.00 -- validation ELBO (KL) = -104.16 (5.0908)\n",
      "(24) step 12500: training ELBO (KL) = -97.66 (5.0871) -- KL weight = 1.00 -- validation ELBO (KL) = -104.28 (5.0645)\n",
      "(24) step 12600: training ELBO (KL) = -97.88 (5.0822) -- KL weight = 1.00 -- validation ELBO (KL) = -104.21 (5.0656)\n",
      "Finished epoch 24\n",
      "Evaluation epoch 24:\n",
      " - validation perplexity: 461.60\n",
      " - validation NLL: 113.97\n",
      " - validation ELBO (KL) = -104.30 (5.05)\n",
      "-- Original sentence: \"What 's more such short-term cataclysms are survivable and are no cause for panic selling\"\n",
      "-- Model reconstruction: \"To make the same time the company 's decision to be a lot of the company\"\n",
      "(25) step 12700: training ELBO (KL) = -95.61 (5.0813) -- KL weight = 1.00 -- validation ELBO (KL) = -104.27 (5.0844)\n",
      "(25) step 12800: training ELBO (KL) = -97.06 (5.0856) -- KL weight = 1.00 -- validation ELBO (KL) = -104.58 (5.0501)\n"
     ]
    },
    {
     "name": "stdout",
     "output_type": "stream",
     "text": [
      "(25) step 12900: training ELBO (KL) = -97.03 (5.0793) -- KL weight = 1.00 -- validation ELBO (KL) = -104.41 (5.0729)\n",
      "(25) step 13000: training ELBO (KL) = -96.12 (5.0797) -- KL weight = 1.00 -- validation ELBO (KL) = -104.39 (5.0751)\n",
      "(25) step 13100: training ELBO (KL) = -97.43 (5.0798) -- KL weight = 1.00 -- validation ELBO (KL) = -104.36 (5.1113)\n",
      "Finished epoch 25\n",
      "Evaluation epoch 25:\n",
      " - validation perplexity: 466.38\n",
      " - validation NLL: 114.16\n",
      " - validation ELBO (KL) = -104.44 (5.04)\n",
      "-- Original sentence: \"The magazine will distribute 10 % of the gross revenues from the supplement as grants to innovative teachers\"\n",
      "-- Model reconstruction: \"The company said it will be a major company for the company 's largest business and other businesses\"\n"
     ]
    }
   ],
   "source": [
    "# Define the model hyperparameters.\n",
    "emb_size = 256\n",
    "hidden_size = 256\n",
    "latent_size = 16\n",
    "bidirectional_encoder = True\n",
    "free_nats = 5.\n",
    "annealing_steps = 11400\n",
    "dropout = 0.6\n",
    "word_dropout = 0.15\n",
    "batch_size = 64\n",
    "learning_rate = 0.001\n",
    "num_epochs = 25\n",
    "n_importance_samples = 3  # 50\n",
    "\n",
    "# Create the training data loader.\n",
    "dl = DataLoader(train_dataset, batch_size=batch_size, shuffle=True)\n",
    "sorted_dl = SortingTextDataLoader(dl)\n",
    "\n",
    "# Create the generative model.\n",
    "model = BowmanLM(vocab_size=vocab.size(), \n",
    "                 emb_size=emb_size, \n",
    "                 hidden_size=hidden_size, \n",
    "                 latent_size=latent_size, \n",
    "                 pad_idx=vocab[PAD_TOKEN],\n",
    "                 dropout=dropout)\n",
    "model = model.to(device)\n",
    "\n",
    "# Create the inference model.\n",
    "inference_model = InferenceModel(vocab_size=vocab.size(),\n",
    "                                 embedder=model.embedder,\n",
    "                                 hidden_size=hidden_size,\n",
    "                                 latent_size=latent_size,\n",
    "                                 pad_idx=vocab[PAD_TOKEN],\n",
    "                                 bidirectional=bidirectional_encoder)\n",
    "inference_model = inference_model.to(device)\n",
    "\n",
    "# Create the optimizer.\n",
    "optimizer = optim.Adam(list(model.parameters()) + list(inference_model.parameters()), lr=learning_rate)\n",
    "\n",
    "# Save the best model (early stopping).\n",
    "best_model = \"./best_model.pt\"\n",
    "best_val_ppl = float(\"inf\")\n",
    "best_epoch = 0\n",
    "\n",
    "# Keep track of some statistics to plot later.\n",
    "train_ELBOs = []\n",
    "train_KLs = []\n",
    "val_ELBOs = []\n",
    "val_KLs = []\n",
    "val_perplexities = []\n",
    "val_NLLs = []\n",
    "\n",
    "step = 0\n",
    "training_ELBO = 0.\n",
    "training_KL = 0.\n",
    "num_batches = 0\n",
    "for epoch_num in range(1, num_epochs+1):\n",
    "    for sentences in sorted_dl:\n",
    "        # Make sure the model is in training mode (for dropout).\n",
    "        model.train()\n",
    "\n",
    "        # Transform the sentences to input, output, seq_len, seq_mask batches.\n",
    "        x_in, x_out, seq_mask, seq_len = create_batch(sentences, vocab, device,\n",
    "                                                      word_dropout=word_dropout)\n",
    "\n",
    "        # Compute the multiplier for the KL term if we do annealing.\n",
    "        if annealing_steps > 0:\n",
    "            KL_weight = min(1., (1.0 / annealing_steps) * step)\n",
    "        else:\n",
    "            KL_weight = 1.\n",
    "        \n",
    "        # Do a forward pass through the model and compute the training loss. We use\n",
    "        # a reparameterized sample from the approximate posterior during training.\n",
    "        qz = inference_model(x_in, seq_mask, seq_len)\n",
    "        pz = Normal(torch.zeros_like(qz.mean()),\n",
    "                    torch.ones_like(qz.std()))\n",
    "        \n",
    "        z = qz.sample()\n",
    "        scores = model(x_in, z)\n",
    "        rec_loss, KL = model.loss(scores, x_out, pz, qz, free_nats=free_nats)\n",
    "        loss = rec_loss + KL_weight * KL\n",
    "\n",
    "        # Backpropagate and update the model weights.\n",
    "        loss.backward()\n",
    "        optimizer.step()\n",
    "        optimizer.zero_grad()\n",
    "\n",
    "        # Update some statistics to track for the training loss.\n",
    "        training_ELBO += -(rec_loss - KL)\n",
    "        training_KL += KL\n",
    "        num_batches += 1\n",
    "        \n",
    "        # Every 100 steps we evaluate the model and report progress.\n",
    "        if step % 100 == 0:\n",
    "            val_rec_loss, val_KL = eval_elbo(model, inference_model, val_dataset, vocab, device)\n",
    "            val_ELBO = -(val_rec_loss - val_KL)\n",
    "            print(\"(%d) step %d: training ELBO (KL) = %.2f (%.4f) --\"\n",
    "                  \" KL weight = %.2f --\"\n",
    "                  \" validation ELBO (KL) = %.2f (%.4f)\" % \n",
    "                  (epoch_num, step, training_ELBO/num_batches, \n",
    "                   training_KL/num_batches, KL_weight, val_ELBO, val_KL))\n",
    "            \n",
    "            # Update some statistics for plotting later.\n",
    "            train_ELBOs.append((step, (training_ELBO/num_batches).item()))\n",
    "            train_KLs.append((step, (training_KL/num_batches).item()))\n",
    "            val_ELBOs.append((step, val_ELBO.item()))\n",
    "            val_KLs.append((step, val_KL.item()))\n",
    "            \n",
    "            # Reset the training statistics.\n",
    "            training_ELBO = 0.\n",
    "            training_KL = 0.\n",
    "            num_batches = 0\n",
    "            \n",
    "        step += 1\n",
    "\n",
    "    # After an epoch we'll compute validation perplexity and save the model\n",
    "    # for early stopping if it's better than previous models.\n",
    "    print(\"Finished epoch %d\" % (epoch_num))\n",
    "    val_perplexity, val_NLL = eval_perplexity(model, inference_model, val_dataset, vocab, device, \n",
    "                                              n_importance_samples)\n",
    "    val_rec_loss, val_KL = eval_elbo(model, inference_model, val_dataset, vocab, device)\n",
    "    val_ELBO = -(val_rec_loss - val_KL)\n",
    "    \n",
    "    # Keep track of the validation perplexities / NLL.\n",
    "    val_perplexities.append((epoch_num, val_perplexity.item()))\n",
    "    val_NLLs.append((epoch_num, val_NLL.item()))\n",
    "    \n",
    "    # If validation perplexity is better, store this model for early stopping.\n",
    "    if val_perplexity < best_val_ppl:\n",
    "        best_val_ppl = val_perplexity\n",
    "        best_epoch = epoch_num\n",
    "        torch.save(model.state_dict(), best_model)\n",
    "        \n",
    "    # Print epoch statistics.\n",
    "    print(\"Evaluation epoch %d:\\n\"\n",
    "          \" - validation perplexity: %.2f\\n\"\n",
    "          \" - validation NLL: %.2f\\n\"\n",
    "          \" - validation ELBO (KL) = %.2f (%.2f)\"\n",
    "          % (epoch_num, val_perplexity, val_NLL, val_ELBO, val_KL))\n",
    "\n",
    "    # Also show some qualitative results by reconstructing a sentence from the\n",
    "    # validation data. Use the mean of the approximate posterior and greedy\n",
    "    # decoding.\n",
    "    random_sentence = val_dataset[np.random.choice(len(val_dataset))]\n",
    "    x_in, _, seq_mask, seq_len = create_batch([random_sentence], vocab, device)\n",
    "    qz = inference_model(x_in, seq_mask, seq_len)\n",
    "    z = qz.mean()\n",
    "    reconstruction = greedy_decode(model, z, vocab)\n",
    "    reconstruction = batch_to_sentences(reconstruction, vocab)[0]\n",
    "    print(\"-- Original sentence: \\\"%s\\\"\" % random_sentence)\n",
    "    print(\"-- Model reconstruction: \\\"%s\\\"\" % reconstruction)"
   ]
  },
  {
   "cell_type": "markdown",
   "metadata": {
    "colab_type": "text",
    "id": "h2GpYHvqScSK"
   },
   "source": [
    "# Let's plot the training and validation statistics:"
   ]
  },
  {
   "cell_type": "code",
   "execution_count": 24,
   "metadata": {
    "colab": {},
    "colab_type": "code",
    "id": "IYnp8E4MScSL"
   },
   "outputs": [
    {
     "data": {
      "image/png": "[encoded data removed]",
      "text/plain": [
       "<Figure size 1296x360 with 2 Axes>"
      ]
     },
     "metadata": {
      "needs_background": "light"
     },
     "output_type": "display_data"
    },
    {
     "data": {
      "image/png": "[encoded data removed]",
      "text/plain": [
       "<Figure size 1296x360 with 2 Axes>"
      ]
     },
     "metadata": {
      "needs_background": "light"
     },
     "output_type": "display_data"
    },
    {
     "data": {
      "image/png": "[encoded data removed]",
      "text/plain": [
       "<Figure size 1296x360 with 2 Axes>"
      ]
     },
     "metadata": {
      "needs_background": "light"
     },
     "output_type": "display_data"
    },
    {
     "name": "stdout",
     "output_type": "stream",
     "text": [
      "\n"
     ]
    }
   ],
   "source": [
    "steps, training_ELBO = list(zip(*train_ELBOs))\n",
    "_, training_KL = list(zip(*train_KLs))\n",
    "_, val_ELBO = list(zip(*val_ELBOs))\n",
    "_, val_KL = list(zip(*val_KLs))\n",
    "epochs, val_ppl = list(zip(*val_perplexities))\n",
    "_, val_NLL = list(zip(*val_NLLs))\n",
    "\n",
    "fig, (ax1, ax2) = plt.subplots(1, 2, figsize=(18, 5))\n",
    "\n",
    "# Plot training ELBO and KL\n",
    "ax1.set_title(\"Training ELBO\")\n",
    "ax1.plot(steps, training_ELBO, \"-o\")\n",
    "ax2.set_title(\"Training KL\")\n",
    "ax2.plot(steps, training_KL, \"-o\")\n",
    "plt.show()\n",
    "\n",
    "# Plot validation ELBO and KL\n",
    "fig, (ax1, ax2) = plt.subplots(1, 2, figsize=(18, 5))\n",
    "ax1.set_title(\"Validation ELBO\")\n",
    "ax1.plot(steps, val_ELBO, \"-o\", color=\"orange\")\n",
    "ax2.set_title(\"Validation KL\")\n",
    "ax2.plot(steps, val_KL, \"-o\",  color=\"orange\")\n",
    "plt.show()\n",
    "\n",
    "# Plot validation perplexities.\n",
    "fig, (ax1, ax2) = plt.subplots(1, 2, figsize=(18, 5))\n",
    "ax1.set_title(\"Validation perplexity\")\n",
    "ax1.plot(epochs, val_ppl, \"-o\", color=\"orange\")\n",
    "ax2.set_title(\"Validation NLL\")\n",
    "ax2.plot(epochs, val_NLL, \"-o\",  color=\"orange\")\n",
    "plt.show()\n",
    "print()"
   ]
  },
  {
   "cell_type": "markdown",
   "metadata": {
    "colab_type": "text",
    "id": "AF4L6yyKScSP"
   },
   "source": [
    "Let's load the best model according to validation perplexity and compute its perplexity on the test data:"
   ]
  },
  {
   "cell_type": "code",
   "execution_count": 25,
   "metadata": {
    "colab": {},
    "colab_type": "code",
    "id": "K25svlmSScSQ"
   },
   "outputs": [
    {
     "name": "stdout",
     "output_type": "stream",
     "text": [
      "test ELBO (KL) = 101.68 (5.04) -- test perplexity = 447.85 -- test NLL = 111.31\n"
     ]
    }
   ],
   "source": [
    "# Load the best model from disk.\n",
    "model = BowmanLM(vocab_size=vocab.size(), \n",
    "                 emb_size=emb_size, \n",
    "                 hidden_size=hidden_size, \n",
    "                 latent_size=latent_size, \n",
    "                 pad_idx=vocab[PAD_TOKEN],\n",
    "                 dropout=dropout)\n",
    "model.load_state_dict(torch.load(best_model))\n",
    "model = model.to(device)\n",
    "\n",
    "# Compute test perplexity and ELBO.\n",
    "test_perplexity, test_NLL = eval_perplexity(model, inference_model, test_dataset, vocab, \n",
    "                                            device, n_importance_samples)\n",
    "test_rec_loss, test_KL = eval_elbo(model, inference_model, test_dataset, vocab, device)\n",
    "test_ELBO = test_rec_loss - test_KL\n",
    "print(\"test ELBO (KL) = %.2f (%.2f) -- test perplexity = %.2f -- test NLL = %.2f\" % \n",
    "      (test_ELBO, test_KL, test_perplexity, test_NLL))"
   ]
  },
  {
   "cell_type": "markdown",
   "metadata": {
    "colab_type": "text",
    "id": "DlxoPIa_ScSS"
   },
   "source": [
    "# Qualitative analysis\n",
    "\n",
    "Let's have a look at what how our trained model interacts with the learned latent space. First let's greedily decode some samples from the prior to assess the diversity of the model:"
   ]
  },
  {
   "cell_type": "code",
   "execution_count": 26,
   "metadata": {
    "colab": {},
    "colab_type": "code",
    "id": "1x9siL9aScST"
   },
   "outputs": [
    {
     "name": "stdout",
     "output_type": "stream",
     "text": [
      "1: It 's a lot of the U.S. and the company 's largest business and the company 's largest business and the company 's largest business\n",
      "2: He said the company 's largest stock market is n't expected to be reached\n",
      "3: The companies are n't going to be a lot of the company 's largest business\n",
      "4: But the company 's largest business is n't expected to be a lot of the company 's largest stock market and the company 's stock market\n",
      "5: But the company 's results were n't disclosed\n",
      "6: Some analysts say the company 's stock market is n't disclosed\n",
      "7: In addition the company 's largest stock market was quoted at par to yield 7.93 %\n",
      "8: Still the company 's largest business is n't a good\n",
      "9: Total sales of the company 's largest stock market rose to yield %\n",
      "10: A spokesman said it was n't a good problem\n"
     ]
    }
   ],
   "source": [
    "# Generate 10 samples from the standard normal prior.\n",
    "num_prior_samples = 10\n",
    "pz = Normal(torch.zeros(num_prior_samples, latent_size), \n",
    "            torch.ones(num_prior_samples, latent_size))\n",
    "z = pz.sample()\n",
    "z = z.to(device)\n",
    "\n",
    "# Use the greedy decoding algorithm to generate sentences.\n",
    "predictions = greedy_decode(model, z, vocab)\n",
    "predictions = batch_to_sentences(predictions, vocab)\n",
    "for num, prediction in enumerate(predictions):\n",
    "    print(\"%d: %s\" % (num+1, prediction))"
   ]
  },
  {
   "cell_type": "markdown",
   "metadata": {
    "colab_type": "text",
    "id": "O7T4hLydScSV"
   },
   "source": [
    "Let's now have a look how good the model is at reconstructing sentences from the test dataset using the approximate posterior mean and a couple of samples:"
   ]
  },
  {
   "cell_type": "code",
   "execution_count": 27,
   "metadata": {
    "colab": {},
    "colab_type": "code",
    "id": "6fi-g4ASScSW"
   },
   "outputs": [
    {
     "name": "stdout",
     "output_type": "stream",
     "text": [
      "Original: \"Adding to unsteadiness in the industry seasonal retail ad spending patterns in newspapers have been upset by shifts in ownership and general hardships within the retail industry\"\n",
      "Posterior mean reconstruction: \"Traders said the company 's largest stock market is expected to be a new company 's largest stock market and the company 's largest stock market\"\n",
      "Posterior sample reconstruction (1): \"As a result of the company 's largest stock market is expected to be a new company 's largest stock market and the company said\"\n",
      "Posterior sample reconstruction (2): \"Traders said the company 's largest stock market is expected to be a new company 's largest stock market and the company 's largest stock market\"\n",
      "Posterior sample reconstruction (3): \"It 's a lot of the U.S. and the company 's largest business and the company 's largest business and the company 's largest business\"\n"
     ]
    }
   ],
   "source": [
    "# Pick a random test sentence.\n",
    "test_sentence = test_dataset[np.random.choice(len(test_dataset))]\n",
    "\n",
    "# Infer q(z|x).\n",
    "x_in, _, seq_mask, seq_len = create_batch([test_sentence], vocab, device)\n",
    "qz = inference_model(x_in, seq_mask, seq_len)\n",
    "\n",
    "# Decode using the mean.\n",
    "z_mean = qz.mean()\n",
    "mean_reconstruction = greedy_decode(model, z_mean, vocab)\n",
    "mean_reconstruction = batch_to_sentences(mean_reconstruction, vocab)[0]\n",
    "\n",
    "print(\"Original: \\\"%s\\\"\" % test_sentence)\n",
    "print(\"Posterior mean reconstruction: \\\"%s\\\"\" % mean_reconstruction)\n",
    "\n",
    "# Decode a couple of samples from the approximate posterior.\n",
    "for s in range(3):\n",
    "    z = qz.sample()\n",
    "    sample_reconstruction = greedy_decode(model, z, vocab)\n",
    "    sample_reconstruction = batch_to_sentences(sample_reconstruction, vocab)[0]\n",
    "    print(\"Posterior sample reconstruction (%d): \\\"%s\\\"\" % (s+1, sample_reconstruction))"
   ]
  },
  {
   "cell_type": "markdown",
   "metadata": {
    "colab_type": "text",
    "id": "fi0THhQ5ScSZ"
   },
   "source": [
    "We can also qualitatively assess the smoothness of the learned latent space by interpolating between two sentences in the test set:"
   ]
  },
  {
   "cell_type": "code",
   "execution_count": 28,
   "metadata": {
    "colab": {},
    "colab_type": "code",
    "id": "y8Ai6FxnScSZ"
   },
   "outputs": [
    {
     "name": "stdout",
     "output_type": "stream",
     "text": [
      "Sentence 1: \"Why not simply questions designed to identify sources and causes of waste and inefficiency\"\n",
      "(1-0.00) * qz1.mean + 0.00 qz2.mean: \"Still the company 's largest business is n't a lot of the company\"\n",
      "(1-0.25) * qz1.mean + 0.25 qz2.mean: \"Most of the U.S. and the company 's largest business is n't expected to be reached\"\n",
      "(1-0.50) * qz1.mean + 0.50 qz2.mean: \"The companies are n't expected to be a lot of the company 's largest stock market and the company said\"\n",
      "(1-0.75) * qz1.mean + 0.75 qz2.mean: \"The National Mortgage Association of the company 's largest stock market was priced at par to yield from 1.8470 billion yen from 1.17 billion\"\n",
      "(1-1.00) * qz1.mean + 1.00 qz2.mean: \"The National Mortgage Association of the company 's largest stock market rose to yield from 6.20 % in the third quarter ended Sept. 30\"\n",
      "Sentence 2: \"British Aerospace PLC and France 's Thomson-CSF S.A. said they are nearing an agreement to merge guided-missile divisions greatly expanding collaboration between the two defense contractors\"\n"
     ]
    }
   ],
   "source": [
    "# Pick a random test sentence.\n",
    "test_sentence_1 = test_dataset[np.random.choice(len(test_dataset))]\n",
    "\n",
    "# Infer q(z|x).\n",
    "x_in, _, seq_mask, seq_len = create_batch([test_sentence_1], vocab, device)\n",
    "qz = inference_model(x_in, seq_mask, seq_len)\n",
    "qz_1 = qz.mean()\n",
    "\n",
    "# Pick a random second test sentence.\n",
    "test_sentence_2 = test_dataset[np.random.choice(len(test_dataset))]\n",
    "\n",
    "# Infer q(z|x) again.\n",
    "x_in, _, seq_mask, seq_len = create_batch([test_sentence_2], vocab, device)\n",
    "qz = inference_model(x_in, seq_mask, seq_len)\n",
    "qz_2 = qz.mean()\n",
    "\n",
    "# Now interpolate between the two means and generate sentences between those.\n",
    "num_sentences = 5\n",
    "print(\"Sentence 1: \\\"%s\\\"\" % test_sentence_1)\n",
    "for alpha in np.linspace(start=0., stop=1., num=num_sentences):\n",
    "    z = (1-alpha) * qz_1 + alpha * qz_2\n",
    "    reconstruction = greedy_decode(model, z, vocab)\n",
    "    reconstruction = batch_to_sentences(reconstruction, vocab)[0]\n",
    "    print(\"(1-%.2f) * qz1.mean + %.2f qz2.mean: \\\"%s\\\"\" % (alpha, alpha, reconstruction))\n",
    "print(\"Sentence 2: \\\"%s\\\"\" % test_sentence_2)"
   ]
  },
  {
   "cell_type": "markdown",
   "metadata": {
    "colab_type": "text",
    "id": "7QnxO6X9c8Pc"
   },
   "source": [
    "Task from NLP Week: **Measure of the similarity of two texts**.\n",
    "\n",
    "1. Take random sentence from test dataset (IMO it is important to take sentences from test, not from train, because we are trying to understand how Inference Model works).\n",
    "\n",
    "2. Find the closest 10 sentences ($argmin KL(q(z|x_i) || q(z|x_a))$ by $x_i$). (In addition, will find the closest 10 sents by loc. I think it can be also interesting).\n",
    "\n",
    "3. How does $q1, q2$ should look like, to be true: $KL(q1||q2) < 1/2$, but $KL(q2||q1) > 2$\n",
    "\n",
    "4. Find in dataset such pairs (from 3 point)"
   ]
  },
  {
   "cell_type": "markdown",
   "metadata": {
    "colab_type": "text",
    "id": "7_wsvY-W1NNz"
   },
   "source": [
    "Example of q1, q2:\n",
    "Template: q: (loc, scale)\n",
    "\n",
    "q1: ($\\sqrt 3$, 1)\n",
    "\n",
    "q2: (0, 2)"
   ]
  },
  {
   "cell_type": "markdown",
   "metadata": {
    "colab_type": "text",
    "id": "BniRHVXf1sID"
   },
   "source": [
    "**Explanation.** Formula for KL:\n",
    "\n",
    "\\begin{align}\n",
    "\\text{KL}\\left(\\mathcal N(\\mu_1, \\sigma_1^2) || \\mathcal N(\\mu_2, \\sigma_2^2)\\right)\n",
    "&= \\frac{1}{2 \\sigma_2^2} \\left((\\mu_1 - \\mu_2)^2 + \\sigma_1^2 - \\sigma_2^2\\right) + \\log \\frac{\\sigma_2}{\\sigma_1}\n",
    "\\end{align}\n",
    "\n",
    "Set $\\frac{\\sigma_1}{\\sigma_2} = s;$ $(\\mu_1 - \\mu_2)^2 = k$\n",
    "\n",
    "Then:\n",
    "\n",
    "$\\frac{1}{2s^2} + \\log(s) + \\frac{k}{2\\sigma^2_2} < 1$\n",
    "\n",
    "$\\frac{s^2}{2} - \\log(s) + \\frac{k}{2\\sigma^2_1} > 2.5$\n",
    "\n",
    "Let $s = 2$, then:\n",
    "\n",
    "$\\frac{k}{2\\sigma^2_2} < 1\\frac{1}{8} - \\log(2)$\n",
    "\n",
    "$\\frac{k}{2\\sigma^2_1} > 0.5 + \\log(2)$\n",
    "\n",
    "Let $k = 3$; $\\sigma_1 = 1$, then it will satisfy inequalities.\n",
    "\n",
    "$\\sigma_1 = 1; \\sigma_2 = 2, \\mu_2 = 0, \\mu_1 = \\sqrt 3$"
   ]
  },
  {
   "cell_type": "code",
   "execution_count": 29,
   "metadata": {
    "colab": {},
    "colab_type": "code",
    "id": "dLkKLAQe1nO1"
   },
   "outputs": [
    {
     "data": {
      "image/png": "[encoded data removed]",
      "text/plain": [
       "<Figure size 432x288 with 1 Axes>"
      ]
     },
     "metadata": {
      "needs_background": "light"
     },
     "output_type": "display_data"
    }
   ],
   "source": [
    "import math\n",
    "from scipy import stats\n",
    "\n",
    "q1 = (math.sqrt(3), 1)\n",
    "q2 = (0, 2)\n",
    "\n",
    "def get_norm_x_y(q):\n",
    "    mu, sigma = q\n",
    "    x = np.linspace(mu - 3*sigma, mu + 3*sigma, 100)\n",
    "    y = stats.norm.pdf(x, mu, sigma)\n",
    "    return x, y\n",
    "\n",
    "plt.plot(*get_norm_x_y(q1), label='q1')\n",
    "plt.plot(*get_norm_x_y(q2), label='q2')\n",
    "plt.legend()\n",
    "plt.show()"
   ]
  },
  {
   "cell_type": "code",
   "execution_count": 30,
   "metadata": {},
   "outputs": [
    {
     "name": "stdout",
     "output_type": "stream",
     "text": [
      "x_a idx: 988\n",
      "sent: \n",
      "  While far more restrained than the pace at the beginning of the year that is still a steeper rise than the 4.0 % increase for all of 1988\n"
     ]
    }
   ],
   "source": [
    "# 1 choose random idx\n",
    "x_a_idx = np.random.choice(len(test_dataset))\n",
    "print('x_a idx: {}'.format(x_a_idx))\n",
    "print('sent: \\n  {}'.format(test_dataset[x_a_idx]))"
   ]
  },
  {
   "cell_type": "code",
   "execution_count": 32,
   "metadata": {},
   "outputs": [],
   "source": [
    "def get_internal_representation(sent):\n",
    "    x_in, _, seq_mask, seq_len = create_batch([sent], vocab, device)\n",
    "    qz = inference_model(x_in, seq_mask, seq_len)\n",
    "    return qz\n",
    "\n",
    "# 2.1 compute all internal representations and find 10 closest sents\n",
    "qzs = list(map(get_internal_representation, test_dataset))\n",
    "qza = qzs[x_a_idx]"
   ]
  },
  {
   "cell_type": "code",
   "execution_count": 45,
   "metadata": {
    "colab": {},
    "colab_type": "code",
    "id": "TePCKbnvem-P"
   },
   "outputs": [
    {
     "name": "stdout",
     "output_type": "stream",
     "text": [
      "By some accounts on Wall Street and in the industry the inventory reductions are near an end which may presage firmer demand\n",
      "Once again the specialists were not able to handle the imbalances on the floor of the New York Stock Exchange said Christopher Pedersen senior vice president at Twenty-First Securities Corp\n",
      "Of course we 've also got a judiciary that seeks the same objective\n",
      "But there were no buyers\n",
      "Some shareholders have held off until today because any fund exchanges made after Friday 's close would take place at today 's closing prices\n",
      "All these actions Mr. Atherton said will result in a loss of 125 million to 150 million for the third quarter\n",
      "We had a good amount of selling from institutions but not as much panic Mr. DaPuzzo said\n",
      "The 50 million warrants will be priced at 1.25 each and are expected to carry a premium to the share price of about 26 %\n",
      "While far more restrained than the pace at the beginning of the year that is still a steeper rise than the 4.0 % increase for all of 1988\n",
      "When Attack hit the shelves in 1987 P&G 's share of the Japanese market fell to about 8 % from more than 20 %\n"
     ]
    }
   ],
   "source": [
    "sorted_sents = sorted([(min(qz.kl(qza)[0]), sent) for qz, sent in zip(qzs, test_dataset)])\n",
    "for i in range(1, 11):  # 1 sent is x_a_idx sent\n",
    "    print(sorted_sents[i][1])  # kl with sentence"
   ]
  }
 ],
 "metadata": {
  "accelerator": "GPU",
  "colab": {
   "name": "SentVAE.ipynb",
   "provenance": [],
   "version": "0.3.2"
  },
  "kernelspec": {
   "display_name": "Python 3",
   "language": "python",
   "name": "python3"
  },
  "language_info": {
   "codemirror_mode": {
    "name": "ipython",
    "version": 3
   },
   "file_extension": ".py",
   "mimetype": "text/x-python",
   "name": "python",
   "nbconvert_exporter": "python",
   "pygments_lexer": "ipython3",
   "version": "3.6.7"
  }
 },
 "nbformat": 4,
 "nbformat_minor": 1
}
